{
 "cells": [
  {
   "cell_type": "code",
   "execution_count": 1,
   "metadata": {},
   "outputs": [
    {
     "data": {
      "text/plain": [
       "2"
      ]
     },
     "execution_count": 1,
     "metadata": {},
     "output_type": "execute_result"
    }
   ],
   "source": [
    "import os\n",
    "from glob import glob\n",
    "pdf_files = glob(os.path.join('pdf', '*이력서*.pdf'))\n",
    "len(pdf_files)"
   ]
  },
  {
   "cell_type": "code",
   "execution_count": 2,
   "metadata": {},
   "outputs": [
    {
     "data": {
      "text/plain": [
       "['pdf\\\\홍길동 이력서.pdf', 'pdf\\\\홍길동 이력서_수정.pdf']"
      ]
     },
     "execution_count": 2,
     "metadata": {},
     "output_type": "execute_result"
    }
   ],
   "source": [
    "# pdf 파일 목록\n",
    "pdf_files"
   ]
  },
  {
   "cell_type": "code",
   "execution_count": 3,
   "metadata": {},
   "outputs": [
    {
     "data": {
      "text/plain": [
       "3"
      ]
     },
     "execution_count": 3,
     "metadata": {},
     "output_type": "execute_result"
    }
   ],
   "source": [
    "# pdf 파일을 읽어서 텍스트로 변환\n",
    "from langchain_community.document_loaders import PyPDFLoader\n",
    "\n",
    "loader = PyPDFLoader(pdf_files[0])\n",
    "data = loader.load()\n",
    "len(data)"
   ]
  },
  {
   "cell_type": "code",
   "execution_count": 4,
   "metadata": {},
   "outputs": [
    {
     "name": "stdout",
     "output_type": "stream",
     "text": [
      "(' \\n'\n",
      " '이 력 서 \\n'\n",
      " '  이름 홍길동 영문 Hong-gildong 한문     - \\n'\n",
      " ' 주민번호 930328 - 1234788 나이   30세 \\n'\n",
      " ' 휴대폰 010-1234-5678 전화번호 - \\n'\n",
      " ' E - mail AB0000@naver.com SNS - \\n'\n",
      " ' 주소 \\n'\n",
      " '서울특별시\\n'\n",
      " ' \\n'\n",
      " '서초구\\n'\n",
      " ' \\n'\n",
      " '서초대로로 \\n'\n",
      " ' \\n'\n",
      " '학력사항 (최종학력: 서울대학교(4년) 졸업) \\n'\n",
      " '재학기간 학교명 및 전공 학점 구분 \\n'\n",
      " '2001.03 ~ 2008.02 서울대학교 전기전자공학과 3.48 / 4.5 졸업 \\n'\n",
      " '1998.03 ~ 2001.02 성인 고등학교 - 졸업 \\n'\n",
      " '    \\n'\n",
      " ' \\n'\n",
      " '활동사항 \\n'\n",
      " '기간 활동 내용 활동구분 기관 및 장소 \\n'\n",
      " '1998.02 ~ 1999.02 관악구 불우이웃 돕기 동아리 서울대학교 \\n'\n",
      " '2000.01 ~ 2000.12 Ktf 퓨쳐스 리더 6기 대외할동 ktf \\n'\n",
      " '2020.01 ~ 2020.12 삼신 전자 인턴 인턴 삼신전자자 \\n'\n",
      " ' \\n'\n",
      " '어학 자격증 \\n'\n",
      " '언어 시험 점수 기관 \\n'\n",
      " '영어 toeic 990 ybm \\n'\n",
      " '영어 Toeic speaking 180 ybm \\n'\n",
      " '어학연수 \\n'\n",
      " '기간 과정명 기관 \\n'\n",
      " '2005.01 ~ 2008.06 호주 워킹 홀리데이 - \\n'\n",
      " '   \\n'\n",
      " '   \\n'\n",
      " ' \\n'\n",
      " ' \\n'\n",
      " '    \\n')\n"
     ]
    }
   ],
   "source": [
    "# 첫번째 페이지의 텍스트 출력\n",
    "from pprint import pprint\n",
    "pprint(data[0].page_content) "
   ]
  },
  {
   "cell_type": "code",
   "execution_count": 5,
   "metadata": {},
   "outputs": [
    {
     "name": "stdout",
     "output_type": "stream",
     "text": [
      "{'page': 0, 'source': 'pdf\\\\홍길동 이력서.pdf'}\n"
     ]
    }
   ],
   "source": [
    "# 첫번째 페이지의 메타데이터 출력\n",
    "pprint(data[0].metadata)  "
   ]
  },
  {
   "cell_type": "code",
   "execution_count": 6,
   "metadata": {},
   "outputs": [
    {
     "name": "stdout",
     "output_type": "stream",
     "text": [
      "(' 자기소개서\\n'\n",
      " ' \\n'\n",
      " '  \\n'\n",
      " ' \\n'\n",
      " '1-1. 삼신전자 인턴십 (2020.01 ~ 2020.12) \\n'\n",
      " '• 직무: 전자 부품 및 네트워크 관련 부서에서 인턴 근무 \\n'\n",
      " '• 주요 업무: \\n'\n",
      " 'o 전자 부품의 통신 기능 검사 및 성능 개선을 위한 데이터 분석 지원 \\n'\n",
      " 'o 시스코 네트워크 장비를 활용한 기초 네트워크 구성과 네트워크 문제 해결에 기여 \\n'\n",
      " 'o 상급자들과 협업하여 대규모 프로젝트에 필요한 자료 조사 및 기술 문서 작성 지원 \\n'\n",
      " '• 성과: \\n'\n",
      " 'o 네트워크 트래픽 모니터링을 통해 잠재적 보안 취약점 발견 및 개선 의견 제안 \\n'\n",
      " 'o 인턴십 기간 동안 실무 경험을 통해 통신과 네트워크 이론을 실제 업무에 적용할 수 있는 역량을 \\n'\n",
      " '확보 \\n'\n",
      " '1-2. 관악구 불우이웃 돕기 동아리 활동 (1998.02 ~ 1999.02) \\n'\n",
      " '• 역할: 봉사활동 기획 및 조직 \\n'\n",
      " '• 주요 내용: \\n'\n",
      " 'o 서울대학교 동아리 소속으로 사회공헌 활동에 참여하여 지역사회의 어려운 이웃을 돕기 위한 기획\\n'\n",
      " '을 수행 \\n'\n",
      " 'o 기부 물품 및 후원금 모집, 행사 운영 및 관련 행정업무 수행 \\n'\n",
      " '• 성과: \\n'\n",
      " 'o 조직 및 커뮤니케이션 능력을 강화하며, 기획에서 실행까지의 전 과정을 관리하는 경험을 쌓음 \\n'\n",
      " '1-3. KTF 퓨처스 리더 프로그램 참여 (2000.01 ~ 2000.12) \\n'\n",
      " '• 역할: KTF 퓨처스 리더 6기로 활동 \\n'\n",
      " '• 주요 업무: \\n'\n",
      " 'o 팀 프로젝트를 통해 다양한 비즈니스 모델 및 고객 서비스 전략에 대한 아이디어를 제시하고 발표 \\n'\n",
      " 'o 모바일 네트워크 및 최신 IT 트렌드에 대해 연구하며 발표를 통한 커뮤니케이션 능력 향상 \\n'\n",
      " '• 성과: \\n'\n",
      " 'o 모바일 통신 및 고객 중심 서비스 설계에 대한 이해도를 심화 \\n'\n",
      " 'o 다양한 팀 구성원과 협업하며 팀워크 능력을 배양함 \\n'\n",
      " ' \\n'\n",
      " ' \\n'\n",
      " '직무경험')\n"
     ]
    }
   ],
   "source": [
    "# 1번째 페이지의 텍스트 출력\n",
    "pprint(data[2].page_content)"
   ]
  },
  {
   "cell_type": "code",
   "execution_count": 7,
   "metadata": {},
   "outputs": [],
   "source": [
    "text_content = \" \".join([page.page_content for page in data])"
   ]
  },
  {
   "cell_type": "code",
   "execution_count": 12,
   "metadata": {},
   "outputs": [],
   "source": [
    "from pydantic import BaseModel, Field\n",
    "from typing import List, Optional\n",
    "\n",
    "class Education(BaseModel):\n",
    "    institution: str = Field(description=\"The name of the educational institution\")\n",
    "    degree: str = Field(description=\"The degree or major\")\n",
    "    graduation_year: Optional[int] = Field(description=\"The year of graduation\", default=None)\n",
    "\n",
    "class Certification(BaseModel):\n",
    "    name: str = Field(description=\"The name of the certification\")\n",
    "    issuing_organization: str = Field(description=\"The organization that issued the certification\")\n",
    "    issue_date: Optional[str] = Field(description=\"The issue date of the certification\", default=None)\n",
    "\n",
    "class JobExperience(BaseModel):\n",
    "    company: str = Field(description=\"The name of the company\")\n",
    "    role: str = Field(description=\"The role or title held at the company\")\n",
    "    start_date: str = Field(description=\"The start date of employment\")\n",
    "    end_date: Optional[str] = Field(description=\"The end date of employment\", default=None)\n",
    "    responsibilities: Optional[str] = Field(description=\"Responsibilities or achievements in the role\", default=None)\n",
    "\n",
    "class ResumeMetadata(BaseModel):\n",
    "    name: str = Field(description=\"The name of the candidate\", required=True)\n",
    "    contact_number: Optional[str] = Field(description=\"The contact number of the candidate\", default=None)\n",
    "    email: str = Field(description=\"The email address of the candidate\", required=True)\n",
    "    education: List[Education] = Field(description=\"List of educational background details\")\n",
    "    certifications: List[Certification] = Field(description=\"List of certifications\")\n",
    "    experiences: List[JobExperience] = Field(description=\"List of job experiences\")"
   ]
  },
  {
   "cell_type": "code",
   "execution_count": 21,
   "metadata": {},
   "outputs": [
    {
     "name": "stdout",
     "output_type": "stream",
     "text": [
      "name='John Doe' contact_number='+1 (123) 456-7890' email='johndoe@example.com' education=[Education(institution='Harvard University', degree='Bachelor of Science in Computer Science', graduation_year=2015), Education(institution='Stanford University', degree='Master of Science in Artificial Intelligence', graduation_year=2020)] certifications=[Certification(name='Certified Data Scientist', issuing_organization='Data Science Council', issue_date='2022-01-01'), Certification(name='Certified Machine Learning Engineer', issuing_organization='Machine Learning Engineers Association', issue_date=None)] experiences=[JobExperience(company='Google LLC', role='Software Engineer', start_date='2020-06-01', end_date=None, responsibilities='Developed and deployed multiple AI models, collaborated with cross-functional teams to improve product features.'), JobExperience(company='Microsoft Corporation', role='Data Scientist', start_date='2018-09-01', end_date='2020-05-31', responsibilities='Analyzed large datasets, created predictive models to forecast market trends.')]\n"
     ]
    }
   ],
   "source": [
    "from langchain_experimental.llms.ollama_functions import OllamaFunctions\n",
    "from langchain_core.prompts import PromptTemplate\n",
    "\n",
    "\n",
    "\n",
    "prompt = PromptTemplate.from_template(\n",
    "     \"\"\" Extract relevant information from the following text:\n",
    "    \n",
    "    TEXT: {text} \\n\n",
    "\n",
    "AI: \"\"\"\n",
    ")\n",
    "\n",
    "llm = OllamaFunctions(model=\"hf.co/MLP-KTLim/llama-3-Korean-Bllossom-8B-gguf-Q4_K_M\", format=\"json\", temperature=0)\n",
    "runnable = prompt | llm.with_structured_output(schema=ResumeMetadata)\n",
    "text = \"PDF에서 추출한 이력서 텍스트를 여기에 넣으세요.\"\n",
    "response = runnable.invoke({\"text\": text})\n",
    "print(response)"
   ]
  }
 ],
 "metadata": {
  "kernelspec": {
   "display_name": "Python 3",
   "language": "python",
   "name": "python3"
  },
  "language_info": {
   "codemirror_mode": {
    "name": "ipython",
    "version": 3
   },
   "file_extension": ".py",
   "mimetype": "text/x-python",
   "name": "python",
   "nbconvert_exporter": "python",
   "pygments_lexer": "ipython3",
   "version": "3.9.11"
  }
 },
 "nbformat": 4,
 "nbformat_minor": 2
}
