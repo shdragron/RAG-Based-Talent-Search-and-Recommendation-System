{
 "cells": [
  {
   "cell_type": "code",
   "execution_count": 60,
   "metadata": {},
   "outputs": [
    {
     "data": {
      "text/plain": [
       "2"
      ]
     },
     "execution_count": 60,
     "metadata": {},
     "output_type": "execute_result"
    }
   ],
   "source": [
    "import os\n",
    "from glob import glob\n",
    "pdf_files = glob(os.path.join('pdf_data', '*이력서*.pdf'))\n",
    "len(pdf_files) "
   ]
  },
  {
   "cell_type": "code",
   "execution_count": 61,
   "metadata": {},
   "outputs": [
    {
     "data": {
      "text/plain": [
       "['pdf_data\\\\김지원 이력서.pdf', 'pdf_data\\\\홍길동 이력서.pdf']"
      ]
     },
     "execution_count": 61,
     "metadata": {},
     "output_type": "execute_result"
    }
   ],
   "source": [
    "# pdf 파일 목록\n",
    "pdf_files"
   ]
  },
  {
   "cell_type": "code",
   "execution_count": 62,
   "metadata": {},
   "outputs": [
    {
     "name": "stdout",
     "output_type": "stream",
     "text": [
      "총 문서 수: 6\n"
     ]
    }
   ],
   "source": [
    "from langchain_community.document_loaders import PyPDFLoader\n",
    "\n",
    "# 여러 개의 PDF 파일을 로드\n",
    "all_data = []\n",
    "\n",
    "# pdf_files 리스트의 각 파일에 대해 로더 실행\n",
    "for pdf_file in pdf_files:\n",
    "    loader = PyPDFLoader(pdf_file)\n",
    "    data = loader.load()\n",
    "    all_data.extend(data)  # 각 파일의 내용을 all_data에 추가\n",
    "\n",
    "print(f\"총 문서 수: {len(all_data)}\")\n"
   ]
  },
  {
   "cell_type": "code",
   "execution_count": 63,
   "metadata": {},
   "outputs": [
    {
     "name": "stdout",
     "output_type": "stream",
     "text": [
      "(' \\n'\n",
      " '이 력 서 \\n'\n",
      " '  이름 김지원 영문 KIM JIWON 한문  - \\n'\n",
      " ' 주민번호 990615-1234567 나이 26 \\n'\n",
      " ' 휴대폰 010-2222-2222 전화번호 010-2222-2222 \\n'\n",
      " ' E - mail BB000@naver.com SNS - \\n'\n",
      " ' 주소 서울특별시  강남구  청담로  234 101동  1101호 \\n'\n",
      " ' \\n'\n",
      " '학력사항 (최종학력: OO대학교(4년) 졸업) \\n'\n",
      " '재학기간 학교명 및 전공 학점 구분 \\n'\n",
      " '2018.03 2024.02 논산대학교 산업 디자인 학과 3.7 / 4.5 졸업 \\n'\n",
      " '2015.03-2018.02 아산고등학교 4.2/4.5 졸업 \\n'\n",
      " '    \\n'\n",
      " ' \\n'\n",
      " '활동사항 \\n'\n",
      " '기간 활동 내용 활동구분 기관 및 장소 \\n'\n",
      " '2016.03 - 2016.12 디자인 봉사 활동 봉사 남양 봉사센터 \\n'\n",
      " '2017.01 - 2017.12 산업디자인 인턴십 인턴 논산 디자인 스튜디오 \\n'\n",
      " '2018.01 - 2018.02 졸업 전시회 준비 프로젝트 논산대학교 산업디자인 학과 \\n'\n",
      " ' \\n'\n",
      " '어학 자격증 \\n'\n",
      " '언어 시험 점수 기관 \\n'\n",
      " '영어 TOEIC 850 YBM \\n'\n",
      " '    \\n'\n",
      " '    \\n'\n",
      " ' \\n'\n",
      " '어학연수 \\n'\n",
      " '기간 과정명 기관 \\n'\n",
      " '2016.07 - 2016.08 여름방학 단기 어학연수 필리핀 일랑 어학원 \\n'\n",
      " '   \\n'\n",
      " '   \\n'\n",
      " ' \\n')\n",
      " \n",
      "이 력 서 \n",
      "  이름 김지원 영문 KIM JIWON 한문  - \n",
      " 주민번호 990615-1234567 나이 26 \n",
      " 휴대폰 010-2222-2222 전화번호 010-2222-2222 \n",
      " E - mail BB000@naver.com SNS - \n",
      " 주소 서울특별시  강남구  청담로  234 101동  1101호 \n",
      " \n",
      "학력사항 (최종학력: OO대학교(4년) 졸업) \n",
      "재학기간 학교명 및 전공 학점 구분 \n",
      "2018.03 2024.02 논산대학교 산업 디자인 학과 3.7 / 4.5 졸업 \n",
      "2015.03-2018.02 아산고등학교 4.2/4.5 졸업 \n",
      "    \n",
      " \n",
      "활동사항 \n",
      "기간 활동 내용 활동구분 기관 및 장소 \n",
      "2016.03 - 2016.12 디자인 봉사 활동 봉사 남양 봉사센터 \n",
      "2017.01 - 2017.12 산업디자인 인턴십 인턴 논산 디자인 스튜디오 \n",
      "2018.01 - 2018.02 졸업 전시회 준비 프로젝트 논산대학교 산업디자인 학과 \n",
      " \n",
      "어학 자격증 \n",
      "언어 시험 점수 기관 \n",
      "영어 TOEIC 850 YBM \n",
      "    \n",
      "    \n",
      " \n",
      "어학연수 \n",
      "기간 과정명 기관 \n",
      "2016.07 - 2016.08 여름방학 단기 어학연수 필리핀 일랑 어학원 \n",
      "   \n",
      "   \n",
      " \n",
      "\n"
     ]
    }
   ],
   "source": [
    "# 첫번째 페이지의 텍스트 출력\n",
    "from pprint import pprint\n",
    "pprint(all_data[0].page_content) \n",
    "print(all_data[0].page_content)\n"
   ]
  },
  {
   "cell_type": "code",
   "execution_count": 64,
   "metadata": {},
   "outputs": [
    {
     "name": "stdout",
     "output_type": "stream",
     "text": [
      "{'page': 0, 'source': 'pdf_data\\\\김지원 이력서.pdf'}\n"
     ]
    }
   ],
   "source": [
    "# 첫번째 페이지의 메타데이터 출력\n",
    "pprint(all_data[0].metadata)  "
   ]
  },
  {
   "cell_type": "code",
   "execution_count": 65,
   "metadata": {},
   "outputs": [
    {
     "name": "stdout",
     "output_type": "stream",
     "text": [
      "(' \\n'\n",
      " '이 력 서 \\n'\n",
      " '  이름 김지원 영문 KIM JIWON 한문  - \\n'\n",
      " ' 주민번호 990615-1234567 나이 26 \\n'\n",
      " ' 휴대폰 010-2222-2222 전화번호 010-2222-2222 \\n'\n",
      " ' E - mail BB000@naver.com SNS - \\n'\n",
      " ' 주소 서울특별시  강남구  청담로  234 101동  1101호 \\n'\n",
      " ' \\n'\n",
      " '학력사항 (최종학력: OO대학교(4년) 졸업) \\n'\n",
      " '재학기간 학교명 및 전공 학점 구분 \\n'\n",
      " '2018.03 2024.02 논산대학교 산업 디자인 학과 3.7 / 4.5 졸업 \\n'\n",
      " '2015.03-2018.02 아산고등학교 4.2/4.5 졸업 \\n'\n",
      " '    \\n'\n",
      " ' \\n'\n",
      " '활동사항 \\n'\n",
      " '기간 활동 내용 활동구분 기관 및 장소 \\n'\n",
      " '2016.03 - 2016.12 디자인 봉사 활동 봉사 남양 봉사센터 \\n'\n",
      " '2017.01 - 2017.12 산업디자인 인턴십 인턴 논산 디자인 스튜디오 \\n'\n",
      " '2018.01 - 2018.02 졸업 전시회 준비 프로젝트 논산대학교 산업디자인 학과 \\n'\n",
      " ' \\n'\n",
      " '어학 자격증 \\n'\n",
      " '언어 시험 점수 기관 \\n'\n",
      " '영어 TOEIC 850 YBM \\n'\n",
      " '    \\n'\n",
      " '    \\n'\n",
      " ' \\n'\n",
      " '어학연수 \\n'\n",
      " '기간 과정명 기관 \\n'\n",
      " '2016.07 - 2016.08 여름방학 단기 어학연수 필리핀 일랑 어학원 \\n'\n",
      " '   \\n'\n",
      " '   \\n'\n",
      " ' \\n')\n"
     ]
    }
   ],
   "source": [
    "pprint(all_data[0].page_content)"
   ]
  },
  {
   "cell_type": "code",
   "execution_count": 66,
   "metadata": {},
   "outputs": [
    {
     "name": "stdout",
     "output_type": "stream",
     "text": [
      "(' \\n'\n",
      " '이 력 서 \\n'\n",
      " '  이름 김지원 영문 KIM JIWON 한문  - \\n'\n",
      " ' 주민번호 990615-1234567 나이 26 \\n'\n",
      " ' 휴대폰 010-2222-2222 전화번호 010-2222-2222 \\n'\n",
      " ' E - mail BB000@naver.com SNS - \\n'\n",
      " ' 주소 서울특별시  강남구  청담로  234 101동  1101호 \\n'\n",
      " ' \\n'\n",
      " '학력사항 (최종학력: OO대학교(4년) 졸업) \\n'\n",
      " '재학기간 학교명 및 전공 학점 구분 \\n'\n",
      " '2018.03 2024.02 논산대학교 산업 디자인 학과 3.7 / 4.5 졸업 \\n'\n",
      " '2015.03-2018.02 아산고등학교 4.2/4.5 졸업 \\n'\n",
      " '    \\n'\n",
      " ' \\n'\n",
      " '활동사항 \\n'\n",
      " '기간 활동 내용 활동구분 기관 및 장소 \\n'\n",
      " '2016.03 - 2016.12 디자인 봉사 활동 봉사 남양 봉사센터 \\n'\n",
      " '2017.01 - 2017.12 산업디자인 인턴십 인턴 논산 디자인 스튜디오 \\n'\n",
      " '2018.01 - 2018.02 졸업 전시회 준비 프로젝트 논산대학교 산업디자인 학과 \\n'\n",
      " ' \\n'\n",
      " '어학 자격증 \\n'\n",
      " '언어 시험 점수 기관 \\n'\n",
      " '영어 TOEIC 850 YBM \\n'\n",
      " '    \\n'\n",
      " '    \\n'\n",
      " ' \\n'\n",
      " '어학연수 \\n'\n",
      " '기간 과정명 기관 \\n'\n",
      " '2016.07 - 2016.08 여름방학 단기 어학연수 필리핀 일랑 어학원 \\n'\n",
      " '   \\n'\n",
      " '   \\n'\n",
      " ' \\n')\n"
     ]
    }
   ],
   "source": [
    "# 10번째 페이지의 텍스트 출력\n",
    "pprint(all_data[0].page_content)"
   ]
  },
  {
   "cell_type": "code",
   "execution_count": 67,
   "metadata": {},
   "outputs": [
    {
     "name": "stdout",
     "output_type": "stream",
     "text": [
      "(' 이 력 서   이름 김지원 영문 KIM JIWON 한문  -  주민번호 990615-1234567 나이 26  휴대폰 '\n",
      " '010-2222-2222 전화번호 010-2222-2222  E - mail BB000@naver.com SNS -  주소 서울특별시  '\n",
      " '강남구  청담로  234 101동  1101호  학력사항 (최종학력: OO대학교(4년) 졸업) 재학기간 학교명 및 전공 학점 구분 '\n",
      " '2018.03 2024.02 논산대학교 산업 디자인 학과 3.7 / 4.5 졸업 2015.03-2018.02 아산고등학교 4.2/4.5 '\n",
      " '졸업      활동사항 기간 활동 내용 활동구분 기관 및 장소 2016.03 - 2016.12 디자인 봉사 활동 봉사 남양 봉사센터 '\n",
      " '2017.01 - 2017.12 산업디자인 인턴십 인턴 논산 디자인 스튜디오 2018.01 - 2018.02 졸업 전시회 준비 프로젝트 '\n",
      " '논산대학교 산업디자인 학과  어학 자격증 언어 시험 점수 기관 영어 TOEIC 850 YBM          어학연수 기간 과정명 기관 '\n",
      " '2016.07 - 2016.08 여름방학 단기 어학연수 필리핀 일랑 어학원         자기소개서    수상내역 기간 상세 내용 기관 '\n",
      " '2018.02 졸업 전시회 우수 작품상 논산대학교 산업디자인 학과 2017.11 산업 디자인 공모전 입상 대한 디자인 협회     자격증 '\n",
      " '취득일 자격증/ 면허증 등급 발행처 2018.03 산업디자인사 자격증 1급 한국산업디자인진흥원          병역 복무기간 군별/ '\n",
      " '계급/ 병과 미필사유 - - -   위에 기재한 사항은 사실과 틀림이 없습니다  2022년   월   일      성  명 '\n",
      " ':                   (인)    자기소개서     직무경험  1-1. 디자인랩 인턴십 (2021.06 ~ 2021.12) '\n",
      " '• 직무: 산업 디자인 부서에서 인턴 근무 • 주요 업무: - 제품 디자인 초기 구상과 프로토타입 제작 지원 - 디자인 소프트웨어를 '\n",
      " '활용하여 제품의 3D 모델링 및 렌더링 작업 - 고객 요구 사항을 분석하여 제품 디자인 개선 제안 및 프레젠테이션 준비 • 성과: - '\n",
      " '신규 제품 디자인 개선안이 채택되어 디자인 품질 향상에 기여 - 인턴십 기간 동안 사용자 경험(UX) 관점에서 디자인의 중요성을 배움 '\n",
      " '1-2. 디자인 학회 참여 및 전시회 기획 (2019.03 ~ 2019.12) • 역할: 디자인 학회 운영 팀원 • 주요 내용: - 대학 '\n",
      " '디자인 학회의 일원으로, 전시회를 기획하고 운영하는 활동에 참여 - 전시회 전반의 준비 과정에서 디자인 기획, 설치 및 홍보 담당 - '\n",
      " '다양한 디자인 프로젝트에 참여하여 전시회에서 작품을 전시 • 성과: - 디자인 전시회의 성공적인 개최를 통해 기획 및 실행 능력을 강화 '\n",
      " '- 협업 능력과 조직력을 키우고, 디자인 과정 전반에 대한 이해도 향상 1-3. OO 디자인 경연대회 참여 (2020.05 ~ '\n",
      " '2020.08) • 역할: 참가 팀 리더 및 디자이너 • 주요 업무: - 팀원들과 함께 주제에 맞는 창의적인 디자인 아이디어 도출 - '\n",
      " '아이디어를 스케치하고 3D 모델링을 통해 시각화하여 발표 - 사용자 인터페이스(UI)와 사용자 경험(UX)을 고려한 디자인 설계 • '\n",
      " '성과: - 최종 발표에서 우수한 평가를 받아 디자인 혁신상을 수상 - 다양한 의견을 조율하며 팀워크 능력을 배양하고, 발표 능력을 '\n",
      " '향상   이 력 서   이름 홍길동 영문 Hong-gildong 한문     -  주민번호 930328 - 1234788 나이   '\n",
      " '30세  휴대폰 010-1234-5678 전화번호 -  E - mail AB0000@naver.com SNS -  주소 서울특별시 서초구 '\n",
      " '서초대로로  학력사항 (최종학력: 서울대학교(4년) 졸업) 재학기간 학교명 및 전공 학점 구분 2001.03 ~ 2008.02 서울대학교 '\n",
      " '전기전자공학과 3.48 / 4.5 졸업 1998.03 ~ 2001.02 성인 고등학교 - 졸업      활동사항 기간 활동 내용 활동구분 '\n",
      " '기관 및 장소 1998.02 ~ 1999.02 관악구 불우이웃 돕기 동아리 서울대학교 2000.01 ~ 2000.12 Ktf 퓨쳐스 리더 '\n",
      " '6기 대외할동 ktf 2020.01 ~ 2020.12 삼신 전자 인턴 인턴 삼신전자자  어학 자격증 언어 시험 점수 기관 영어 toeic '\n",
      " '990 ybm 영어 Toeic speaking 180 ybm 어학연수 기간 과정명 기관 2005.01 ~ 2008.06 호주 워킹 '\n",
      " '홀리데이 -        수상내역 기간 상세 내용 기관  자기소개서    2019.01 전산대회 대상 한국 산업인력공단        '\n",
      " '자격증 취득일 자격증/ 면허증 등급 발행처 2019.01 시스코 네트워킹 자격증  마스터 국제 시스코 협회회 2020.01 한자능력시험  '\n",
      " '4급급 대한검정회      병역 복무기간 군별/ 계급/ 병과 미필사유 2002.03 ~ 2005. 04 육군 / 병장 / 통신병병 '\n",
      " '-      위에 기재한 사항은 사실과 틀림이 없습니다  2022년  01월  10 일      성  명 :            홍 길 '\n",
      " '동       (인)         직무경험  자기소개서    1-1. 삼신전자 인턴십 (2020.01 ~ 2020.12) • 직무: '\n",
      " '전자 부품 및 네트워크 관련 부서에서 인턴 근무 • 주요 업무: o 전자 부품의 통신 기능 검사 및 성능 개선을 위한 데이터 분석 지원 '\n",
      " 'o 시스코 네트워크 장비를 활용한 기초 네트워크 구성과 네트워크 문제 해결에 기여 o 상급자들과 협업하여 대규모 프로젝트에 필요한 자료 '\n",
      " '조사 및 기술 문서 작성 지원 • 성과: o 네트워크 트래픽 모니터링을 통해 잠재적 보안 취약점 발견 및 개선 의견 제안 o 인턴십 기간 '\n",
      " '동안 실무 경험을 통해 통신과 네트워크 이론을 실제 업무에 적용할 수 있는 역량을 확보 1-2. 관악구 불우이웃 돕기 동아리 활동 '\n",
      " '(1998.02 ~ 1999.02) • 역할: 봉사활동 기획 및 조직 • 주요 내용: o 서울대학교 동아리 소속으로 사회공헌 활동에 '\n",
      " '참여하여 지역사회의 어려운 이웃을 돕기 위한 기획을 수행 o 기부 물품 및 후원금 모집, 행사 운영 및 관련 행정업무 수행 • 성과: o '\n",
      " '조직 및 커뮤니케이션 능력을 강화하며, 기획에서 실행까지의 전 과정을 관리하는 경험을 쌓음 1-3. KTF 퓨처스 리더 프로그램 참여 '\n",
      " '(2000.01 ~ 2000.12) • 역할: KTF 퓨처스 리더 6기로 활동 • 주요 업무: o 팀 프로젝트를 통해 다양한 비즈니스 '\n",
      " '모델 및 고객 서비스 전략에 대한 아이디어를 제시하고 발표 o 모바일 네트워크 및 최신 IT 트렌드에 대해 연구하며 발표를 통한 '\n",
      " '커뮤니케이션 능력 향상 • 성과: o 모바일 통신 및 고객 중심 서비스 설계에 대한 이해도를 심화 o 다양한 팀 구성원과 협업하며 팀워크 '\n",
      " '능력을 배양함   ')\n"
     ]
    }
   ],
   "source": [
    "import re\n",
    "all_text = ''\n",
    "for i in range(0, len(all_data)):\n",
    "    all_text += all_data[i].page_content\n",
    "all_text = ''.join(all_text.split('\\n'))\n",
    "pprint(all_text)"
   ]
  },
  {
   "cell_type": "code",
   "execution_count": 68,
   "metadata": {},
   "outputs": [],
   "source": [
    "# 사건에 대한 메타데이터 추출하는 Pydantic 스키마 정의\n",
    "\n",
    "from typing import Union, Optional\n",
    "from pydantic import BaseModel, Field\n",
    "\n",
    "class Person(BaseModel):\n",
    "    person_korean_name: Optional[str] = Field(None, description=\"이름이 무엇인가?\")\n",
    "    person_english_name: Optional[str] = Field(None, description=\"영문 이름이 무엇인가?\")\n",
    "    person_phone_number: Optional[str] = Field(None, description=\"휴대폰 번호 (e.g. 010-1234-5678)\")\n",
    "    person_birth: Optional[str] = Field(None, description=\"생년월일이 언제인가? (e.g. 1990-01-01)\")\n",
    "    person_university: Optional[str] = Field(None, description=\"출신대학교 (e.g. --대학교)\")\n",
    "    person_certification: Optional[Union[str, dict]] = Field(\n",
    "        None, description=\"자격증 (예: 자격증 이름과 발급일)\"\n",
    "    )\n",
    "    person_language: Optional[Union[str, dict]] = Field(\n",
    "        None, description=\"외국어 능력 (예: 언어: 등급 또는 점수)\"\n",
    "    )\n"
   ]
  },
  {
   "cell_type": "code",
   "execution_count": 69,
   "metadata": {},
   "outputs": [
    {
     "name": "stdout",
     "output_type": "stream",
     "text": [
      "2\n",
      "['   이름 김지원 영문 KIM JIWON 한문  -  주민번호 990615-1234567 나이 26  휴대폰 010-2222-2222 전화번호 010-2222-2222  E - mail BB000@naver.com SNS -  주소 서울특별시  강남구  청담로  234 101동  1101호  학력사항 (최종학력: OO대학교(4년) 졸업) 재학기간 학교명 및 전공 학점 구분 2018.03 2024.02 논산대학교 산업 디자인 학과 3.7 / 4.5 졸업 2015.03-2018.02 아산고등학교 4.2/4.5 졸업      활동사항 기간 활동 내용 활동구분 기관 및 장소 2016.03 - 2016.12 디자인 봉사 활동 봉사 남양 봉사센터 2017.01 - 2017.12 산업디자인 인턴십 인턴 논산 디자인 스튜디오 2018.01 - 2018.02 졸업 전시회 준비 프로젝트 논산대학교 산업디자인 학과  어학 자격증 언어 시험 점수 기관 영어 TOEIC 850 YBM          어학연수 기간 과정명 기관 2016.07 - 2016.08 여름방학 단기 어학연수 필리핀 일랑 어학원         자기소개서    수상내역 기간 상세 내용 기관 2018.02 졸업 전시회 우수 작품상 논산대학교 산업디자인 학과 2017.11 산업 디자인 공모전 입상 대한 디자인 협회     자격증 취득일 자격증/ 면허증 등급 발행처 2018.03 산업디자인사 자격증 1급 한국산업디자인진흥원          병역 복무기간 군별/ 계급/ 병과 미필사유 - - -   위에 기재한 사항은 사실과 틀림이 없습니다  2022년   월   일      성  명 :                   (인)    자기소개서     직무경험  1-1. 디자인랩 인턴십 (2021.06 ~ 2021.12) • 직무: 산업 디자인 부서에서 인턴 근무 • 주요 업무: - 제품 디자인 초기 구상과 프로토타입 제작 지원 - 디자인 소프트웨어를 활용하여 제품의 3D 모델링 및 렌더링 작업 - 고객 요구 사항을 분석하여 제품 디자인 개선 제안 및 프레젠테이션 준비 • 성과: - 신규 제품 디자인 개선안이 채택되어 디자인 품질 향상에 기여 - 인턴십 기간 동안 사용자 경험(UX) 관점에서 디자인의 중요성을 배움 1-2. 디자인 학회 참여 및 전시회 기획 (2019.03 ~ 2019.12) • 역할: 디자인 학회 운영 팀원 • 주요 내용: - 대학 디자인 학회의 일원으로, 전시회를 기획하고 운영하는 활동에 참여 - 전시회 전반의 준비 과정에서 디자인 기획, 설치 및 홍보 담당 - 다양한 디자인 프로젝트에 참여하여 전시회에서 작품을 전시 • 성과: - 디자인 전시회의 성공적인 개최를 통해 기획 및 실행 능력을 강화 - 협업 능력과 조직력을 키우고, 디자인 과정 전반에 대한 이해도 향상 1-3. OO 디자인 경연대회 참여 (2020.05 ~ 2020.08) • 역할: 참가 팀 리더 및 디자이너 • 주요 업무: - 팀원들과 함께 주제에 맞는 창의적인 디자인 아이디어 도출 - 아이디어를 스케치하고 3D 모델링을 통해 시각화하여 발표 - 사용자 인터페이스(UI)와 사용자 경험(UX)을 고려한 디자인 설계 • 성과: - 최종 발표에서 우수한 평가를 받아 디자인 혁신상을 수상 - 다양한 의견을 조율하며 팀워크 능력을 배양하고, 발표 능력을 향상   ', '   이름 홍길동 영문 Hong-gildong 한문     -  주민번호 930328 - 1234788 나이   30세  휴대폰 010-1234-5678 전화번호 -  E - mail AB0000@naver.com SNS -  주소 서울특별시 서초구 서초대로로  학력사항 (최종학력: 서울대학교(4년) 졸업) 재학기간 학교명 및 전공 학점 구분 2001.03 ~ 2008.02 서울대학교 전기전자공학과 3.48 / 4.5 졸업 1998.03 ~ 2001.02 성인 고등학교 - 졸업      활동사항 기간 활동 내용 활동구분 기관 및 장소 1998.02 ~ 1999.02 관악구 불우이웃 돕기 동아리 서울대학교 2000.01 ~ 2000.12 Ktf 퓨쳐스 리더 6기 대외할동 ktf 2020.01 ~ 2020.12 삼신 전자 인턴 인턴 삼신전자자  어학 자격증 언어 시험 점수 기관 영어 toeic 990 ybm 영어 Toeic speaking 180 ybm 어학연수 기간 과정명 기관 2005.01 ~ 2008.06 호주 워킹 홀리데이 -        수상내역 기간 상세 내용 기관  자기소개서    2019.01 전산대회 대상 한국 산업인력공단        자격증 취득일 자격증/ 면허증 등급 발행처 2019.01 시스코 네트워킹 자격증  마스터 국제 시스코 협회회 2020.01 한자능력시험  4급급 대한검정회      병역 복무기간 군별/ 계급/ 병과 미필사유 2002.03 ~ 2005. 04 육군 / 병장 / 통신병병 -      위에 기재한 사항은 사실과 틀림이 없습니다  2022년  01월  10 일      성  명 :            홍 길 동       (인)         직무경험  자기소개서    1-1. 삼신전자 인턴십 (2020.01 ~ 2020.12) • 직무: 전자 부품 및 네트워크 관련 부서에서 인턴 근무 • 주요 업무: o 전자 부품의 통신 기능 검사 및 성능 개선을 위한 데이터 분석 지원 o 시스코 네트워크 장비를 활용한 기초 네트워크 구성과 네트워크 문제 해결에 기여 o 상급자들과 협업하여 대규모 프로젝트에 필요한 자료 조사 및 기술 문서 작성 지원 • 성과: o 네트워크 트래픽 모니터링을 통해 잠재적 보안 취약점 발견 및 개선 의견 제안 o 인턴십 기간 동안 실무 경험을 통해 통신과 네트워크 이론을 실제 업무에 적용할 수 있는 역량을 확보 1-2. 관악구 불우이웃 돕기 동아리 활동 (1998.02 ~ 1999.02) • 역할: 봉사활동 기획 및 조직 • 주요 내용: o 서울대학교 동아리 소속으로 사회공헌 활동에 참여하여 지역사회의 어려운 이웃을 돕기 위한 기획을 수행 o 기부 물품 및 후원금 모집, 행사 운영 및 관련 행정업무 수행 • 성과: o 조직 및 커뮤니케이션 능력을 강화하며, 기획에서 실행까지의 전 과정을 관리하는 경험을 쌓음 1-3. KTF 퓨처스 리더 프로그램 참여 (2000.01 ~ 2000.12) • 역할: KTF 퓨처스 리더 6기로 활동 • 주요 업무: o 팀 프로젝트를 통해 다양한 비즈니스 모델 및 고객 서비스 전략에 대한 아이디어를 제시하고 발표 o 모바일 네트워크 및 최신 IT 트렌드에 대해 연구하며 발표를 통한 커뮤니케이션 능력 향상 • 성과: o 모바일 통신 및 고객 중심 서비스 설계에 대한 이해도를 심화 o 다양한 팀 구성원과 협업하며 팀워크 능력을 배양함   ']\n",
      "   이름 김지원 영문 KIM JIWON 한문  -  주민번호 990615-1234567 나이 26  휴대폰 010-2222-2222 전화번호 010-2222-2222  E - mail BB000@naver.com SNS -  주소 서울특별시  강남구  청담로  234 101동  1101호  학력사항 (최종학력: OO대학교(4년) 졸업) 재학기간 학교명 및 전공 학점 구분 2018.03 2024.02 논산대학교 산업 디자인 학과 3.7 / 4.5 졸업 2015.03-2018.02 아산고등학교 4.2/4.5 졸업      활동사항 기간 활동 내용 활동구분 기관 및 장소 2016.03 - 2016.12 디자인 봉사 활동 봉사 남양 봉사센터 2017.01 - 2017.12 산업디자인 인턴십 인턴 논산 디자인 스튜디오 2018.01 - 2018.02 졸업 전시회 준비 프로젝트 논산대학교 산업디자인 학과  어학 자격증 언어 시험 점수 기관 영어 TOEIC 850 YBM          어학연수 기간 과정명 기관 2016.07 - 2016.08 여름방학 단기 어학연수 필리핀 일랑 어학원         자기소개서    수상내역 기간 상세 내용 기관 2018.02 졸업 전시회 우수 작품상 논산대학교 산업디자인 학과 2017.11 산업 디자인 공모전 입상 대한 디자인 협회     자격증 취득일 자격증/ 면허증 등급 발행처 2018.03 산업디자인사 자격증 1급 한국산업디자인진흥원          병역 복무기간 군별/ 계급/ 병과 미필사유 - - -   위에 기재한 사항은 사실과 틀림이 없습니다  2022년   월   일      성  명 :                   (인)    자기소개서     직무경험  1-1. 디자인랩 인턴십 (2021.06 ~ 2021.12) • 직무: 산업 디자인 부서에서 인턴 근무 • 주요 업무: - 제품 디자인 초기 구상과 프로토타입 제작 지원 - 디자인 소프트웨어를 활용하여 제품의 3D 모델링 및 렌더링 작업 - 고객 요구 사항을 분석하여 제품 디자인 개선 제안 및 프레젠테이션 준비 • 성과: - 신규 제품 디자인 개선안이 채택되어 디자인 품질 향상에 기여 - 인턴십 기간 동안 사용자 경험(UX) 관점에서 디자인의 중요성을 배움 1-2. 디자인 학회 참여 및 전시회 기획 (2019.03 ~ 2019.12) • 역할: 디자인 학회 운영 팀원 • 주요 내용: - 대학 디자인 학회의 일원으로, 전시회를 기획하고 운영하는 활동에 참여 - 전시회 전반의 준비 과정에서 디자인 기획, 설치 및 홍보 담당 - 다양한 디자인 프로젝트에 참여하여 전시회에서 작품을 전시 • 성과: - 디자인 전시회의 성공적인 개최를 통해 기획 및 실행 능력을 강화 - 협업 능력과 조직력을 키우고, 디자인 과정 전반에 대한 이해도 향상 1-3. OO 디자인 경연대회 참여 (2020.05 ~ 2020.08) • 역할: 참가 팀 리더 및 디자이너 • 주요 업무: - 팀원들과 함께 주제에 맞는 창의적인 디자인 아이디어 도출 - 아이디어를 스케치하고 3D 모델링을 통해 시각화하여 발표 - 사용자 인터페이스(UI)와 사용자 경험(UX)을 고려한 디자인 설계 • 성과: - 최종 발표에서 우수한 평가를 받아 디자인 혁신상을 수상 - 다양한 의견을 조율하며 팀워크 능력을 배양하고, 발표 능력을 향상   \n",
      "person_korean_name='김지원' person_english_name='KIM JIWON' person_phone_number='010-2222-2222' person_birth='1995-06-15' person_university='OO대학교' person_certification={'certification': '산업디자인사 자격증 1급', 'issue_date': '2018-03'} person_language={'language': 'English', 'test_score': 'TOEIC 850', 'training_period': '2016.07 - 2016.08'}\n",
      "Processed resume 1 successfully.\n",
      "   이름 홍길동 영문 Hong-gildong 한문     -  주민번호 930328 - 1234788 나이   30세  휴대폰 010-1234-5678 전화번호 -  E - mail AB0000@naver.com SNS -  주소 서울특별시 서초구 서초대로로  학력사항 (최종학력: 서울대학교(4년) 졸업) 재학기간 학교명 및 전공 학점 구분 2001.03 ~ 2008.02 서울대학교 전기전자공학과 3.48 / 4.5 졸업 1998.03 ~ 2001.02 성인 고등학교 - 졸업      활동사항 기간 활동 내용 활동구분 기관 및 장소 1998.02 ~ 1999.02 관악구 불우이웃 돕기 동아리 서울대학교 2000.01 ~ 2000.12 Ktf 퓨쳐스 리더 6기 대외할동 ktf 2020.01 ~ 2020.12 삼신 전자 인턴 인턴 삼신전자자  어학 자격증 언어 시험 점수 기관 영어 toeic 990 ybm 영어 Toeic speaking 180 ybm 어학연수 기간 과정명 기관 2005.01 ~ 2008.06 호주 워킹 홀리데이 -        수상내역 기간 상세 내용 기관  자기소개서    2019.01 전산대회 대상 한국 산업인력공단        자격증 취득일 자격증/ 면허증 등급 발행처 2019.01 시스코 네트워킹 자격증  마스터 국제 시스코 협회회 2020.01 한자능력시험  4급급 대한검정회      병역 복무기간 군별/ 계급/ 병과 미필사유 2002.03 ~ 2005. 04 육군 / 병장 / 통신병병 -      위에 기재한 사항은 사실과 틀림이 없습니다  2022년  01월  10 일      성  명 :            홍 길 동       (인)         직무경험  자기소개서    1-1. 삼신전자 인턴십 (2020.01 ~ 2020.12) • 직무: 전자 부품 및 네트워크 관련 부서에서 인턴 근무 • 주요 업무: o 전자 부품의 통신 기능 검사 및 성능 개선을 위한 데이터 분석 지원 o 시스코 네트워크 장비를 활용한 기초 네트워크 구성과 네트워크 문제 해결에 기여 o 상급자들과 협업하여 대규모 프로젝트에 필요한 자료 조사 및 기술 문서 작성 지원 • 성과: o 네트워크 트래픽 모니터링을 통해 잠재적 보안 취약점 발견 및 개선 의견 제안 o 인턴십 기간 동안 실무 경험을 통해 통신과 네트워크 이론을 실제 업무에 적용할 수 있는 역량을 확보 1-2. 관악구 불우이웃 돕기 동아리 활동 (1998.02 ~ 1999.02) • 역할: 봉사활동 기획 및 조직 • 주요 내용: o 서울대학교 동아리 소속으로 사회공헌 활동에 참여하여 지역사회의 어려운 이웃을 돕기 위한 기획을 수행 o 기부 물품 및 후원금 모집, 행사 운영 및 관련 행정업무 수행 • 성과: o 조직 및 커뮤니케이션 능력을 강화하며, 기획에서 실행까지의 전 과정을 관리하는 경험을 쌓음 1-3. KTF 퓨처스 리더 프로그램 참여 (2000.01 ~ 2000.12) • 역할: KTF 퓨처스 리더 6기로 활동 • 주요 업무: o 팀 프로젝트를 통해 다양한 비즈니스 모델 및 고객 서비스 전략에 대한 아이디어를 제시하고 발표 o 모바일 네트워크 및 최신 IT 트렌드에 대해 연구하며 발표를 통한 커뮤니케이션 능력 향상 • 성과: o 모바일 통신 및 고객 중심 서비스 설계에 대한 이해도를 심화 o 다양한 팀 구성원과 협업하며 팀워크 능력을 배양함   \n",
      "person_korean_name='홍길동' person_english_name='Hong-gildong' person_phone_number='010-1234-5678' person_birth='1990-01-01' person_university='서울대학교' person_certification={'certification': '시스코 네트워크 자격증', 'level': '마스터', 'issue_date': '2019-01'} person_language={'language': '영어', 'test_score': 990, 'test_name': 'TOEIC', 'test_date': '2005-01-01'}\n",
      "Processed resume 2 successfully.\n",
      "Resume 1: person_korean_name='김지원' person_english_name='KIM JIWON' person_phone_number='010-2222-2222' person_birth='1995-06-15' person_university='OO대학교' person_certification={'certification': '산업디자인사 자격증 1급', 'issue_date': '2018-03'} person_language={'language': 'English', 'test_score': 'TOEIC 850', 'training_period': '2016.07 - 2016.08'}\n",
      "Resume 2: person_korean_name='홍길동' person_english_name='Hong-gildong' person_phone_number='010-1234-5678' person_birth='1990-01-01' person_university='서울대학교' person_certification={'certification': '시스코 네트워크 자격증', 'level': '마스터', 'issue_date': '2019-01'} person_language={'language': '영어', 'test_score': 990, 'test_name': 'TOEIC', 'test_date': '2005-01-01'}\n"
     ]
    }
   ],
   "source": [
    "\n",
    "from langchain_core.prompts import PromptTemplate\n",
    "from langchain_experimental.llms.ollama_functions import OllamaFunctions\n",
    "from typing import List\n",
    "from pydantic import ValidationError\n",
    "\n",
    "prompt = PromptTemplate.from_template(\n",
    "    \"\"\" Extract relevant information from the following text:\n",
    "    \n",
    "TEXT: {text} \\n\n",
    "\n",
    "AI: \"\"\"\n",
    ")\n",
    "\n",
    "# 다수의 이력서 텍스트에서 개별 이력서를 분리하는 함수\n",
    "def extract_resumes(text: str) -> List[str]:\n",
    "    # \"이력서\"를 기준으로 각 이력서 분리\n",
    "    resumes = re.split(r\"이\\s*력\\s*서\", text)[1:]  # 첫 번째 항목은 빈 값이므로 제외\n",
    "    return resumes\n",
    "\n",
    "# LLM 설정\n",
    "llm = OllamaFunctions(model=\"hf.co/MLP-KTLim/llama-3-Korean-Bllossom-8B-gguf-Q4_K_M\", format=\"json\", temperature=0)\n",
    "\n",
    "# 전체 텍스트에서 이력서 분리 및 개별 처리\n",
    "resumes = extract_resumes(all_text)  # 이력서 리스트 생성\n",
    "print(len(resumes))\n",
    "print(resumes)\n",
    "responses = []\n",
    "\n",
    "for i, resume_text in enumerate(resumes, start=1):\n",
    "    print(resume_text)\n",
    "    runnable = prompt | llm.with_structured_output(schema=Person)\n",
    "    try:\n",
    "        response = runnable.invoke({\"text\": resume_text})\n",
    "        print(response)\n",
    "        responses.append(response)\n",
    "        print(f\"Processed resume {i} successfully.\")\n",
    "    except ValidationError as e:\n",
    "        print(f\"Validation failed for resume {i}:\", e.json())\n",
    "    except Exception as e:\n",
    "        print(f\"An unexpected error occurred while processing resume {i}: {e}\")\n",
    "\n",
    "# 전체 결과 출력\n",
    "for i, response in enumerate(responses, start=1):\n",
    "    print(f\"Resume {i}:\", response)"
   ]
  },
  {
   "cell_type": "code",
   "execution_count": 70,
   "metadata": {},
   "outputs": [
    {
     "name": "stdout",
     "output_type": "stream",
     "text": [
      "first=PromptTemplate(input_variables=['text'], input_types={}, partial_variables={}, template=' Extract relevant information from the following text:\\n    \\nTEXT: {text} \\n\\n\\nAI: ') middle=[RunnableBinding(bound=OllamaFunctions(model='hf.co/MLP-KTLim/llama-3-Korean-Bllossom-8B-gguf-Q4_K_M', temperature=0.0, format='json'), kwargs={'functions': [<class '__main__.Person'>], 'format': 'json'}, config={}, config_factories=[]), RunnableLambda(parse_response)] last=PydanticOutputParser(pydantic_object=<class '__main__.Person'>)\n"
     ]
    }
   ],
   "source": [
    "print(runnable)"
   ]
  },
  {
   "cell_type": "code",
   "execution_count": 71,
   "metadata": {},
   "outputs": [
    {
     "data": {
      "text/plain": [
       "Person(person_korean_name='홍길동', person_english_name='Hong-gildong', person_phone_number='010-1234-5678', person_birth='1990-01-01', person_university='서울대학교', person_certification={'certification': '시스코 네트워크 자격증', 'level': '마스터', 'issue_date': '2019-01'}, person_language={'language': '영어', 'test_score': 990, 'test_name': 'TOEIC', 'test_date': '2005-01-01'})"
      ]
     },
     "execution_count": 71,
     "metadata": {},
     "output_type": "execute_result"
    }
   ],
   "source": [
    "response"
   ]
  },
  {
   "cell_type": "markdown",
   "metadata": {},
   "source": [
    "## 1) 정규표현식 버전"
   ]
  },
  {
   "cell_type": "code",
   "execution_count": 72,
   "metadata": {},
   "outputs": [
    {
     "ename": "SyntaxError",
     "evalue": "invalid syntax (871309978.py, line 1)",
     "output_type": "error",
     "traceback": [
      "\u001b[1;36m  Cell \u001b[1;32mIn[72], line 1\u001b[1;36m\u001b[0m\n\u001b[1;33m    정지 유도\u001b[0m\n\u001b[1;37m       ^\u001b[0m\n\u001b[1;31mSyntaxError\u001b[0m\u001b[1;31m:\u001b[0m invalid syntax\n"
     ]
    }
   ],
   "source": [
    "정지 유도\n",
    "import re\n",
    "split_pattern_1 = r'이.*력.*서'\n",
    "split_text_1 = re.findall(split_pattern_1, \"\".join(data[0].page_content))\n",
    "split_text_1"
   ]
  },
  {
   "cell_type": "code",
   "execution_count": null,
   "metadata": {},
   "outputs": [],
   "source": [
    "split_pattern_2 = r'자기소개서'\n",
    "split_text_2 = re.findall(split_pattern_2, \"\".join(data[2].page_content))\n",
    "split_text_2"
   ]
  },
  {
   "cell_type": "code",
   "execution_count": null,
   "metadata": {},
   "outputs": [
    {
     "name": "stdout",
     "output_type": "stream",
     "text": [
      "Attempt 1 failed with error: Failed to parse Person from completion {\"person_phone_number\": \"010-2222-2222\", \"person_korean_name\": \"\\uae40\\uc9c0\\uc6d0\", \"person_english_name\": \"KIM JIWON\", \"person_birth\": \"1996-06-15\", \"person_university\": \"OO\\ub300\\ud559\\uad50\", \"person_certification\": {\"certification\": \"\\uc0b0\\uc5c5\\ub514\\uc790\\uc778\\uc0ac \\uc790\\uaca9\\uc99d 1\\uae09\", \"issue_date\": \"2018-03\"}, \"person_language\": {\"language\": \"English\", \"test_score\": \"TOEIC 850\", \"test_taken\": \"YBM\"}}. Got: 1 validation error for Person\n",
      "person_certification\n",
      "  Input should be a valid string [type=string_type, input_value={'certification': '산업...'issue_date': '2018-03'}, input_type=dict]\n",
      "    For further information visit https://errors.pydantic.dev/2.9/v/string_type\n",
      "For troubleshooting, visit: https://python.langchain.com/docs/troubleshooting/errors/OUTPUT_PARSING_FAILURE\n",
      "Attempt 2 failed with error: Failed to parse Person from completion {\"person_phone_number\": \"010-2222-2222\", \"person_korean_name\": \"\\uae40\\uc9c0\\uc6d0\", \"person_english_name\": \"KIM JIWON\", \"person_birth\": \"1996-06-15\", \"person_university\": \"OO\\ub300\\ud559\\uad50\", \"person_certification\": {\"certification\": \"\\uc0b0\\uc5c5\\ub514\\uc790\\uc778\\uc0ac \\uc790\\uaca9\\uc99d 1\\uae09\", \"issue_date\": \"2018-03\"}, \"person_language\": \"English: TOEIC 850, YBM; Filipino: \\uc5ec\\ub984\\ubc29\\ud559 \\ub2e8\\uae30 \\uc5b4\\ud559\\uc5f0\\uc218 \\ud544\\ub9ac\\ud540 \\uc77c\\ub791 \\uc5b4\\ud559\\uc6d0\"}. Got: 1 validation error for Person\n",
      "person_certification\n",
      "  Input should be a valid string [type=string_type, input_value={'certification': '산업...'issue_date': '2018-03'}, input_type=dict]\n",
      "    For further information visit https://errors.pydantic.dev/2.9/v/string_type\n",
      "For troubleshooting, visit: https://python.langchain.com/docs/troubleshooting/errors/OUTPUT_PARSING_FAILURE\n",
      "Attempt 1 failed with error: Failed to parse Person from completion {\"person_phone_number\": \"010-2222-2222\", \"person_korean_name\": \"\\uae40\\uc9c0\\uc6d0\", \"person_english_name\": \"KIM JIWON\", \"person_birth\": \"1996-06-15\", \"person_university\": \"OO\\ub300\\ud559\\uad50\", \"person_certification\": {\"certification\": \"\\uc0b0\\uc5c5\\ub514\\uc790\\uc778\\uc0ac \\uc790\\uaca9\\uc99d 1\\uae09\", \"issue_date\": \"2018-03\"}, \"person_language\": \"English: TOEIC 850, YBM; Filipino: \\uc5ec\\ub984\\ubc29\\ud559 \\ub2e8\\uae30 \\uc5b4\\ud559\\uc5f0\\uc218 \\ud544\\ub9ac\\ud540 \\uc77c\\ub791 \\uc5b4\\ud559\\uc6d0\"}. Got: 1 validation error for Person\n",
      "person_certification\n",
      "  Input should be a valid string [type=string_type, input_value={'certification': '산업...'issue_date': '2018-03'}, input_type=dict]\n",
      "    For further information visit https://errors.pydantic.dev/2.9/v/string_type\n",
      "For troubleshooting, visit: https://python.langchain.com/docs/troubleshooting/errors/OUTPUT_PARSING_FAILURE\n",
      "Attempt 2 failed with error: Failed to parse Person from completion {\"person_phone_number\": \"010-2222-2222\", \"person_korean_name\": \"\\uae40\\uc9c0\\uc6d0\", \"person_english_name\": \"KIM JIWON\", \"person_birth\": \"1996-06-15\", \"person_university\": \"OO\\ub300\\ud559\\uad50\", \"person_certification\": {\"certification\": \"\\uc0b0\\uc5c5\\ub514\\uc790\\uc778\\uc0ac \\uc790\\uaca9\\uc99d 1\\uae09\", \"issue_date\": \"2018-03\"}, \"person_language\": \"English: TOEIC 850, YBM; Filipino: \\uc5ec\\ub984\\ubc29\\ud559 \\ub2e8\\uae30 \\uc5b4\\ud559\\uc5f0\\uc218 \\ud544\\ub9ac\\ud540 \\uc77c\\ub791 \\uc5b4\\ud559\\uc6d0\"}. Got: 1 validation error for Person\n",
      "person_certification\n",
      "  Input should be a valid string [type=string_type, input_value={'certification': '산업...'issue_date': '2018-03'}, input_type=dict]\n",
      "    For further information visit https://errors.pydantic.dev/2.9/v/string_type\n",
      "For troubleshooting, visit: https://python.langchain.com/docs/troubleshooting/errors/OUTPUT_PARSING_FAILURE\n",
      "Attempt 1 failed with error: 'NoneType' object has no attribute 'replace'\n",
      "Attempt 2 failed with error: Failed to parse Person from completion {\"person_phone_number\": \"010-1234-5678\", \"person_korean_name\": \"\\ud64d\\uae38\\ub3d9\", \"person_english_name\": \"Hong-gildong\", \"person_birth\": \"1990-01-01\", \"person_university\": \"\\uc11c\\uc6b8\\ub300\\ud559\\uad50\", \"person_certification\": {\"certification\": \"\\uc2dc\\uc2a4\\ucf54 \\ub124\\ud2b8\\uc6cc\\ud0b9 \\uc790\\uaca9\\uc99d\", \"level\": \"\\ub9c8\\uc2a4\\ud130\", \"issue_date\": \"2019-01\"}, \"person_language\": {\"language\": \"\\uc601\\uc5b4\", \"score\": 990, \"test\": \"TOEIC\", \"institute\": \"YBM\"}}. Got: 1 validation error for Person\n",
      "person_certification\n",
      "  Input should be a valid string [type=string_type, input_value={'certification': '시스...'issue_date': '2019-01'}, input_type=dict]\n",
      "    For further information visit https://errors.pydantic.dev/2.9/v/string_type\n",
      "For troubleshooting, visit: https://python.langchain.com/docs/troubleshooting/errors/OUTPUT_PARSING_FAILURE\n",
      "Attempt 1 failed with error: Failed to parse Person from completion {\"person_phone_number\": \"010-1234-5678\", \"person_korean_name\": \"\\ud64d\\uae38\\ub3d9\", \"person_english_name\": \"Hong-gildong\", \"person_birth\": \"1990-01-01\", \"person_university\": \"\\uc11c\\uc6b8\\ub300\\ud559\\uad50\", \"person_certification\": {\"certification\": \"\\uc2dc\\uc2a4\\ucf54 \\ub124\\ud2b8\\uc6cc\\ud0b9 \\uc790\\uaca9\\uc99d\", \"level\": \"\\ub9c8\\uc2a4\\ud130\", \"issue_date\": \"2019-01\"}, \"person_language\": {\"language\": \"\\uc601\\uc5b4\", \"score\": 990, \"test\": \"TOEIC\", \"institute\": \"YBM\"}}. Got: 1 validation error for Person\n",
      "person_certification\n",
      "  Input should be a valid string [type=string_type, input_value={'certification': '시스...'issue_date': '2019-01'}, input_type=dict]\n",
      "    For further information visit https://errors.pydantic.dev/2.9/v/string_type\n",
      "For troubleshooting, visit: https://python.langchain.com/docs/troubleshooting/errors/OUTPUT_PARSING_FAILURE\n",
      "Attempt 2 failed with error: Failed to parse Person from completion {\"person_phone_number\": \"010-1234-5678\", \"person_korean_name\": \"\\ud64d\\uae38\\ub3d9\", \"person_english_name\": \"Hong-gildong\", \"person_birth\": \"1990-01-01\", \"person_university\": \"\\uc11c\\uc6b8\\ub300\\ud559\\uad50\", \"person_certification\": {\"certification\": \"\\uc2dc\\uc2a4\\ucf54 \\ub124\\ud2b8\\uc6cc\\ud0b9 \\uc790\\uaca9\\uc99d\", \"level\": \"\\ub9c8\\uc2a4\\ud130\", \"issue_date\": \"2019-01\"}, \"person_language\": {\"language\": \"\\uc601\\uc5b4\", \"score\": 990, \"test\": \"TOEIC\", \"institute\": \"YBM\"}}. Got: 1 validation error for Person\n",
      "person_certification\n",
      "  Input should be a valid string [type=string_type, input_value={'certification': '시스...'issue_date': '2019-01'}, input_type=dict]\n",
      "    For further information visit https://errors.pydantic.dev/2.9/v/string_type\n",
      "For troubleshooting, visit: https://python.langchain.com/docs/troubleshooting/errors/OUTPUT_PARSING_FAILURE\n",
      "Processed 6 documents.\n",
      "{'page': 1, 'source': 'pdf_data\\\\김지원 이력서.pdf'}\n"
     ]
    }
   ],
   "source": [
    "# 문서 객체를 페이지별로 순회하며 사례 번호 등 메타데이터를 추출하고 업데이트\n",
    "pdf_docs = []\n",
    "person_metadata = {}\n",
    "for doc in data[:]:\n",
    "    split_text_1 = re.findall(split_pattern_1, \"\".join(doc.page_content))\n",
    "    split_text_2 = re.findall(split_pattern_2, \"\".join(doc.page_content))\n",
    "    if split_text_1:\n",
    "\n",
    "        # 사람 메타데이터 결정\n",
    "        person_metadata['person_name_korean'] = re.findall('이름\\s(.+)\\s영문',\"\".join(doc.page_content))\n",
    "        person_metadata['person_name_english'] = re.findall('영문\\s(.+)\\s한문',\"\".join(doc.page_content))\n",
    "        person_metadata['person_birth'] = re.findall('주민번호\\s(\\d+)\\s.+',\"\".join(doc.page_content))\n",
    "        person_metadata['person_university'] = re.findall('\\d\\s.+\\d\\s(.+대학교)\\s.+과.+\\n',\"\".join(doc.page_content))\n",
    "        person_metadata['person_major'] = re.findall('\\s.+대학교\\s(.+과).+\\n',\"\".join(doc.page_content))\n",
    "        \n",
    "        \n",
    "        # Update metadata \n",
    "        doc.metadata.update(person_metadata)\n",
    "\n",
    "        doc.page_content =  ''.join(doc.page_content.split('\\n'))\n",
    "        # Append to split_docs\n",
    "        pdf_docs.append(doc)\n",
    "\n",
    "    elif split_text_2:\n",
    "        \n",
    "    \n",
    "        # Update metadata \n",
    "        doc.metadata.update(person_metadata) \n",
    "\n",
    "        doc.page_content =  ''.join(doc.page_content.split('\\n'))\n",
    "        \n",
    "        # Append to split_docs\n",
    "        pdf_docs.append(doc)\n",
    "        \n",
    "    else:\n",
    "        \n",
    "        doc.page_content =  ''.join(doc.page_content.split('\\n'))\n",
    "        \n",
    "        # Update metadata \n",
    "        doc.metadata.update(person_metadata) \n",
    "\n",
    "        # Append to split_docs\n",
    "        pdf_docs.append(doc)\n",
    "\n",
    "len(pdf_docs)"
   ]
  },
  {
   "cell_type": "code",
   "execution_count": null,
   "metadata": {},
   "outputs": [],
   "source": [
    "pdf_docs[0].metadata"
   ]
  },
  {
   "cell_type": "code",
   "execution_count": null,
   "metadata": {},
   "outputs": [
    {
     "name": "stdout",
     "output_type": "stream",
     "text": [
      "6\n",
      "6\n",
      "6\n"
     ]
    }
   ],
   "source": [
    "for i in data:\n",
    "    pprint(len(all_data))"
   ]
  },
  {
   "cell_type": "markdown",
   "metadata": {},
   "source": [
    "## 2) 스키마 + llm 버전"
   ]
  },
  {
   "cell_type": "code",
   "execution_count": null,
   "metadata": {},
   "outputs": [
    {
     "name": "stdout",
     "output_type": "stream",
     "text": [
      "   이름 김지원 영문 KIM JIWON 한문  -  주민번호 990615-1234567 나이 26  휴대폰 010-2222-2222 전화번호 010-2222-2222  E - mail BB000@naver.com SNS -  주소 서울특별시  강남구  청담로  234 101동  1101호  학력사항 (최종학력: OO대학교(4년) 졸업) 재학기간 학교명 및 전공 학점 구분 2018.03 2024.02 논산대학교 산업 디자인 학과 3.7 / 4.5 졸업 2015.03-2018.02 아산고등학교 4.2/4.5 졸업      활동사항 기간 활동 내용 활동구분 기관 및 장소 2016.03 - 2016.12 디자인 봉사 활동 봉사 남양 봉사센터 2017.01 - 2017.12 산업디자인 인턴십 인턴 논산 디자인 스튜디오 2018.01 - 2018.02 졸업 전시회 준비 프로젝트 논산대학교 산업디자인 학과  어학 자격증 언어 시험 점수 기관 영어 TOEIC 850 YBM          어학연수 기간 과정명 기관 2016.07 - 2016.08 여름방학 단기 어학연수 필리핀 일랑 어학원         자기소개서    수상내역 기간 상세 내용 기관 2018.02 졸업 전시회 우수 작품상 논산대학교 산업디자인 학과 2017.11 산업 디자인 공모전 입상 대한 디자인 협회     자격증 취득일 자격증/ 면허증 등급 발행처 2018.03 산업디자인사 자격증 1급 한국산업디자인진흥원          병역 복무기간 군별/ 계급/ 병과 미필사유 - - -   위에 기재한 사항은 사실과 틀림이 없습니다  2022년   월   일      성  명 :                   (인)    자기소개서     직무경험  1-1. 디자인랩 인턴십 (2021.06 ~ 2021.12) • 직무: 산업 디자인 부서에서 인턴 근무 • 주요 업무: - 제품 디자인 초기 구상과 프로토타입 제작 지원 - 디자인 소프트웨어를 활용하여 제품의 3D 모델링 및 렌더링 작업 - 고객 요구 사항을 분석하여 제품 디자인 개선 제안 및 프레젠테이션 준비 • 성과: - 신규 제품 디자인 개선안이 채택되어 디자인 품질 향상에 기여 - 인턴십 기간 동안 사용자 경험(UX) 관점에서 디자인의 중요성을 배움 1-2. 디자인 학회 참여 및 전시회 기획 (2019.03 ~ 2019.12) • 역할: 디자인 학회 운영 팀원 • 주요 내용: - 대학 디자인 학회의 일원으로, 전시회를 기획하고 운영하는 활동에 참여 - 전시회 전반의 준비 과정에서 디자인 기획, 설치 및 홍보 담당 - 다양한 디자인 프로젝트에 참여하여 전시회에서 작품을 전시 • 성과: - 디자인 전시회의 성공적인 개최를 통해 기획 및 실행 능력을 강화 - 협업 능력과 조직력을 키우고, 디자인 과정 전반에 대한 이해도 향상 1-3. OO 디자인 경연대회 참여 (2020.05 ~ 2020.08) • 역할: 참가 팀 리더 및 디자이너 • 주요 업무: - 팀원들과 함께 주제에 맞는 창의적인 디자인 아이디어 도출 - 아이디어를 스케치하고 3D 모델링을 통해 시각화하여 발표 - 사용자 인터페이스(UI)와 사용자 경험(UX)을 고려한 디자인 설계 • 성과: - 최종 발표에서 우수한 평가를 받아 디자인 혁신상을 수상 - 다양한 의견을 조율하며 팀워크 능력을 배양하고, 발표 능력을 향상   \n",
      "{'person_korean_name': '김지원', 'person_english_name': 'KIM JIWON', 'person_phone_number': '010-2222-2222', 'person_birth': '1995-06-15', 'person_university': 'OO대학교', 'person_certification': {'certification': '산업디자인사 자격증 1급', 'issue_date': '2018-03'}, 'person_language': {'language': 'English', 'test_score': 'TOEIC 850', 'training_period': '2016.07 - 2016.08'}}\n",
      "person_korean_name 김지원\n",
      "person_english_name KIM JIWON\n",
      "person_phone_number 010-2222-2222\n",
      "person_birth 1995-06-15\n",
      "person_university OO대학교\n",
      "person_certification {'certification': '산업디자인사 자격증 1급', 'issue_date': '2018-03'}\n",
      "Error\n",
      "1\n",
      "   이름 김지원 영문 KIM JIWON 한문  -  주민번호 990615-1234567 나이 26  휴대폰 010-2222-2222 전화번호 010-2222-2222  E - mail BB000@naver.com SNS -  주소 서울특별시  강남구  청담로  234 101동  1101호  학력사항 (최종학력: OO대학교(4년) 졸업) 재학기간 학교명 및 전공 학점 구분 2018.03 2024.02 논산대학교 산업 디자인 학과 3.7 / 4.5 졸업 2015.03-2018.02 아산고등학교 4.2/4.5 졸업      활동사항 기간 활동 내용 활동구분 기관 및 장소 2016.03 - 2016.12 디자인 봉사 활동 봉사 남양 봉사센터 2017.01 - 2017.12 산업디자인 인턴십 인턴 논산 디자인 스튜디오 2018.01 - 2018.02 졸업 전시회 준비 프로젝트 논산대학교 산업디자인 학과  어학 자격증 언어 시험 점수 기관 영어 TOEIC 850 YBM          어학연수 기간 과정명 기관 2016.07 - 2016.08 여름방학 단기 어학연수 필리핀 일랑 어학원         자기소개서    수상내역 기간 상세 내용 기관 2018.02 졸업 전시회 우수 작품상 논산대학교 산업디자인 학과 2017.11 산업 디자인 공모전 입상 대한 디자인 협회     자격증 취득일 자격증/ 면허증 등급 발행처 2018.03 산업디자인사 자격증 1급 한국산업디자인진흥원          병역 복무기간 군별/ 계급/ 병과 미필사유 - - -   위에 기재한 사항은 사실과 틀림이 없습니다  2022년   월   일      성  명 :                   (인)    자기소개서     직무경험  1-1. 디자인랩 인턴십 (2021.06 ~ 2021.12) • 직무: 산업 디자인 부서에서 인턴 근무 • 주요 업무: - 제품 디자인 초기 구상과 프로토타입 제작 지원 - 디자인 소프트웨어를 활용하여 제품의 3D 모델링 및 렌더링 작업 - 고객 요구 사항을 분석하여 제품 디자인 개선 제안 및 프레젠테이션 준비 • 성과: - 신규 제품 디자인 개선안이 채택되어 디자인 품질 향상에 기여 - 인턴십 기간 동안 사용자 경험(UX) 관점에서 디자인의 중요성을 배움 1-2. 디자인 학회 참여 및 전시회 기획 (2019.03 ~ 2019.12) • 역할: 디자인 학회 운영 팀원 • 주요 내용: - 대학 디자인 학회의 일원으로, 전시회를 기획하고 운영하는 활동에 참여 - 전시회 전반의 준비 과정에서 디자인 기획, 설치 및 홍보 담당 - 다양한 디자인 프로젝트에 참여하여 전시회에서 작품을 전시 • 성과: - 디자인 전시회의 성공적인 개최를 통해 기획 및 실행 능력을 강화 - 협업 능력과 조직력을 키우고, 디자인 과정 전반에 대한 이해도 향상 1-3. OO 디자인 경연대회 참여 (2020.05 ~ 2020.08) • 역할: 참가 팀 리더 및 디자이너 • 주요 업무: - 팀원들과 함께 주제에 맞는 창의적인 디자인 아이디어 도출 - 아이디어를 스케치하고 3D 모델링을 통해 시각화하여 발표 - 사용자 인터페이스(UI)와 사용자 경험(UX)을 고려한 디자인 설계 • 성과: - 최종 발표에서 우수한 평가를 받아 디자인 혁신상을 수상 - 다양한 의견을 조율하며 팀워크 능력을 배양하고, 발표 능력을 향상   \n",
      "{'person_korean_name': '김지원', 'person_english_name': 'KIM JIWON', 'person_phone_number': '010-2222-2222', 'person_birth': '1995-06-15', 'person_university': 'OO대학교', 'person_certification': {'certification': '산업디자인사 자격증 1급', 'issue_date': '2018-03'}, 'person_language': {'language': 'English', 'test_score': 'TOEIC 850', 'test_taken': 'YBM'}}\n",
      "person_korean_name 김지원\n",
      "person_english_name KIM JIWON\n",
      "person_phone_number 010-2222-2222\n",
      "person_birth 1995-06-15\n",
      "person_university OO대학교\n",
      "person_certification {'certification': '산업디자인사 자격증 1급', 'issue_date': '2018-03'}\n",
      "Error\n",
      "   이름 홍길동 영문 Hong-gildong 한문     -  주민번호 930328 - 1234788 나이   30세  휴대폰 010-1234-5678 전화번호 -  E - mail AB0000@naver.com SNS -  주소 서울특별시 서초구 서초대로로  학력사항 (최종학력: 서울대학교(4년) 졸업) 재학기간 학교명 및 전공 학점 구분 2001.03 ~ 2008.02 서울대학교 전기전자공학과 3.48 / 4.5 졸업 1998.03 ~ 2001.02 성인 고등학교 - 졸업      활동사항 기간 활동 내용 활동구분 기관 및 장소 1998.02 ~ 1999.02 관악구 불우이웃 돕기 동아리 서울대학교 2000.01 ~ 2000.12 Ktf 퓨쳐스 리더 6기 대외할동 ktf 2020.01 ~ 2020.12 삼신 전자 인턴 인턴 삼신전자자  어학 자격증 언어 시험 점수 기관 영어 toeic 990 ybm 영어 Toeic speaking 180 ybm 어학연수 기간 과정명 기관 2005.01 ~ 2008.06 호주 워킹 홀리데이 -        수상내역 기간 상세 내용 기관  자기소개서    2019.01 전산대회 대상 한국 산업인력공단        자격증 취득일 자격증/ 면허증 등급 발행처 2019.01 시스코 네트워킹 자격증  마스터 국제 시스코 협회회 2020.01 한자능력시험  4급급 대한검정회      병역 복무기간 군별/ 계급/ 병과 미필사유 2002.03 ~ 2005. 04 육군 / 병장 / 통신병병 -      위에 기재한 사항은 사실과 틀림이 없습니다  2022년  01월  10 일      성  명 :            홍 길 동       (인)         직무경험  자기소개서    1-1. 삼신전자 인턴십 (2020.01 ~ 2020.12) • 직무: 전자 부품 및 네트워크 관련 부서에서 인턴 근무 • 주요 업무: o 전자 부품의 통신 기능 검사 및 성능 개선을 위한 데이터 분석 지원 o 시스코 네트워크 장비를 활용한 기초 네트워크 구성과 네트워크 문제 해결에 기여 o 상급자들과 협업하여 대규모 프로젝트에 필요한 자료 조사 및 기술 문서 작성 지원 • 성과: o 네트워크 트래픽 모니터링을 통해 잠재적 보안 취약점 발견 및 개선 의견 제안 o 인턴십 기간 동안 실무 경험을 통해 통신과 네트워크 이론을 실제 업무에 적용할 수 있는 역량을 확보 1-2. 관악구 불우이웃 돕기 동아리 활동 (1998.02 ~ 1999.02) • 역할: 봉사활동 기획 및 조직 • 주요 내용: o 서울대학교 동아리 소속으로 사회공헌 활동에 참여하여 지역사회의 어려운 이웃을 돕기 위한 기획을 수행 o 기부 물품 및 후원금 모집, 행사 운영 및 관련 행정업무 수행 • 성과: o 조직 및 커뮤니케이션 능력을 강화하며, 기획에서 실행까지의 전 과정을 관리하는 경험을 쌓음 1-3. KTF 퓨처스 리더 프로그램 참여 (2000.01 ~ 2000.12) • 역할: KTF 퓨처스 리더 6기로 활동 • 주요 업무: o 팀 프로젝트를 통해 다양한 비즈니스 모델 및 고객 서비스 전략에 대한 아이디어를 제시하고 발표 o 모바일 네트워크 및 최신 IT 트렌드에 대해 연구하며 발표를 통한 커뮤니케이션 능력 향상 • 성과: o 모바일 통신 및 고객 중심 서비스 설계에 대한 이해도를 심화 o 다양한 팀 구성원과 협업하며 팀워크 능력을 배양함   \n",
      "{'person_korean_name': '홍길동', 'person_english_name': 'Hong-gildong', 'person_phone_number': '010-1234-5678', 'person_birth': '1990-01-01', 'person_university': '서울대학교', 'person_certification': {'certification': '시스코 네트워크 자격증', 'level': '마스터', 'issue_date': '2019-01'}, 'person_language': {'language': '영어', 'test_score': 990, 'test_name': 'TOEIC', 'test_date': '2005-01-01'}}\n",
      "person_korean_name 홍길동\n",
      "person_english_name Hong-gildong\n",
      "person_phone_number 010-1234-5678\n",
      "person_birth 1990-01-01\n",
      "person_university 서울대학교\n",
      "person_certification {'certification': '시스코 네트워크 자격증', 'level': '마스터', 'issue_date': '2019-01'}\n",
      "Error\n",
      "2\n",
      "   이름 홍길동 영문 Hong-gildong 한문     -  주민번호 930328 - 1234788 나이   30세  휴대폰 010-1234-5678 전화번호 -  E - mail AB0000@naver.com SNS -  주소 서울특별시 서초구 서초대로로  학력사항 (최종학력: 서울대학교(4년) 졸업) 재학기간 학교명 및 전공 학점 구분 2001.03 ~ 2008.02 서울대학교 전기전자공학과 3.48 / 4.5 졸업 1998.03 ~ 2001.02 성인 고등학교 - 졸업      활동사항 기간 활동 내용 활동구분 기관 및 장소 1998.02 ~ 1999.02 관악구 불우이웃 돕기 동아리 서울대학교 2000.01 ~ 2000.12 Ktf 퓨쳐스 리더 6기 대외할동 ktf 2020.01 ~ 2020.12 삼신 전자 인턴 인턴 삼신전자자  어학 자격증 언어 시험 점수 기관 영어 toeic 990 ybm 영어 Toeic speaking 180 ybm 어학연수 기간 과정명 기관 2005.01 ~ 2008.06 호주 워킹 홀리데이 -        수상내역 기간 상세 내용 기관  자기소개서    2019.01 전산대회 대상 한국 산업인력공단        자격증 취득일 자격증/ 면허증 등급 발행처 2019.01 시스코 네트워킹 자격증  마스터 국제 시스코 협회회 2020.01 한자능력시험  4급급 대한검정회      병역 복무기간 군별/ 계급/ 병과 미필사유 2002.03 ~ 2005. 04 육군 / 병장 / 통신병병 -      위에 기재한 사항은 사실과 틀림이 없습니다  2022년  01월  10 일      성  명 :            홍 길 동       (인)         직무경험  자기소개서    1-1. 삼신전자 인턴십 (2020.01 ~ 2020.12) • 직무: 전자 부품 및 네트워크 관련 부서에서 인턴 근무 • 주요 업무: o 전자 부품의 통신 기능 검사 및 성능 개선을 위한 데이터 분석 지원 o 시스코 네트워크 장비를 활용한 기초 네트워크 구성과 네트워크 문제 해결에 기여 o 상급자들과 협업하여 대규모 프로젝트에 필요한 자료 조사 및 기술 문서 작성 지원 • 성과: o 네트워크 트래픽 모니터링을 통해 잠재적 보안 취약점 발견 및 개선 의견 제안 o 인턴십 기간 동안 실무 경험을 통해 통신과 네트워크 이론을 실제 업무에 적용할 수 있는 역량을 확보 1-2. 관악구 불우이웃 돕기 동아리 활동 (1998.02 ~ 1999.02) • 역할: 봉사활동 기획 및 조직 • 주요 내용: o 서울대학교 동아리 소속으로 사회공헌 활동에 참여하여 지역사회의 어려운 이웃을 돕기 위한 기획을 수행 o 기부 물품 및 후원금 모집, 행사 운영 및 관련 행정업무 수행 • 성과: o 조직 및 커뮤니케이션 능력을 강화하며, 기획에서 실행까지의 전 과정을 관리하는 경험을 쌓음 1-3. KTF 퓨처스 리더 프로그램 참여 (2000.01 ~ 2000.12) • 역할: KTF 퓨처스 리더 6기로 활동 • 주요 업무: o 팀 프로젝트를 통해 다양한 비즈니스 모델 및 고객 서비스 전략에 대한 아이디어를 제시하고 발표 o 모바일 네트워크 및 최신 IT 트렌드에 대해 연구하며 발표를 통한 커뮤니케이션 능력 향상 • 성과: o 모바일 통신 및 고객 중심 서비스 설계에 대한 이해도를 심화 o 다양한 팀 구성원과 협업하며 팀워크 능력을 배양함   \n",
      "{'person_korean_name': '홍길동', 'person_english_name': 'Hong-gildong', 'person_phone_number': '010-1234-5678', 'person_birth': '1990-01-01', 'person_university': '서울대학교', 'person_certification': {'certification': '시스코 네트워크 자격증', 'level': '마스터', 'issue_date': '2019-01'}, 'person_language': {'language': '영어', 'test_score': 990, 'test_name': 'TOEIC', 'test_date': '2005-01-01'}}\n",
      "person_korean_name 홍길동\n",
      "person_english_name Hong-gildong\n",
      "person_phone_number 010-1234-5678\n",
      "person_birth 1990-01-01\n",
      "person_university 서울대학교\n",
      "person_certification {'certification': '시스코 네트워크 자격증', 'level': '마스터', 'issue_date': '2019-01'}\n",
      "Error\n",
      "Processed 2 documents.\n"
     ]
    }
   ],
   "source": [
    "# 문서 객체를 페이지별로 순회하며 사례 번호 등 메타데이터를 추출하고 업데이트\n",
    "import math\n",
    "j = 0\n",
    "pdf_docs = []\n",
    "person_metadata = {}\n",
    "split_pattern_1 = r'이.*력.*서'  # \"이력서\" 패턴\n",
    "split_pattern_2 = r'자기소개서'  # \"자기소개서\" 패턴\n",
    "\n",
    "for i, doc in enumerate(all_data):\n",
    "    page_content = \"\".join(doc.page_content)  # 페이지의 전체 텍스트를 하나로 결합\n",
    "    person_metadata = {}  # 각 페이지별 메타데이터 저장\n",
    "    split_text = re.search(split_pattern_1, page_content)\n",
    "\n",
    "    # \"이력서\"인 경우\n",
    "    if split_text:\n",
    "        # 각 이력서가 3페이지로 구성된 것으로 가정하고 메타데이터 추출\n",
    "        resume_text = resumes[math.floor( i / 3)]\n",
    "        print(resume_text)\n",
    "        try:\n",
    "            response = runnable.invoke({\"text\": resume_text})\n",
    "            print(dict(response))\n",
    "            for k, v in dict(response).items():\n",
    "                print(k, v)\n",
    "                person_metadata[k] = v.replace(\"\\n\", \"\").replace(\" \", \"\")\n",
    "        except:\n",
    "            print(\"Error\")\n",
    "            continue\n",
    "            \n",
    "        doc.metadata.update(person_metadata)\n",
    "\n",
    "    # \"자기소개서\"인 경우\n",
    "    elif re.search(split_pattern_2, page_content):\n",
    "        # 메타데이터가 있으면 업데이트\n",
    "        doc.metadata.update(person_metadata)\n",
    "\n",
    "    # \"이력서\"와 \"자기소개서\"에 맞지 않는 경우\n",
    "    else:\n",
    "        doc.metadata.update(person_metadata)  # 필요한 기본 메타데이터 업데이트\n",
    "\n",
    "    # 줄바꿈 제거 및 문서 객체 리스트에 추가\n",
    "    doc.page_content = ''.join(page_content.split('\\n'))\n",
    "    j += 1\n",
    "    print(j)\n",
    "    pdf_docs.append(doc)\n",
    "\n",
    "# 처리된 문서 개수 확인\n",
    "print(f\"Processed {len(pdf_docs)} documents.\")\n"
   ]
  },
  {
   "cell_type": "code",
   "execution_count": 75,
   "metadata": {},
   "outputs": [
    {
     "name": "stdout",
     "output_type": "stream",
     "text": [
      "0 !!\n",
      "   이름 김지원 영문 KIM JIWON 한문  -  주민번호 990615-1234567 나이 26  휴대폰 010-2222-2222 전화번호 010-2222-2222  E - mail BB000@naver.com SNS -  주소 서울특별시  강남구  청담로  234 101동  1101호  학력사항 (최종학력: OO대학교(4년) 졸업) 재학기간 학교명 및 전공 학점 구분 2018.03 2024.02 논산대학교 산업 디자인 학과 3.7 / 4.5 졸업 2015.03-2018.02 아산고등학교 4.2/4.5 졸업      활동사항 기간 활동 내용 활동구분 기관 및 장소 2016.03 - 2016.12 디자인 봉사 활동 봉사 남양 봉사센터 2017.01 - 2017.12 산업디자인 인턴십 인턴 논산 디자인 스튜디오 2018.01 - 2018.02 졸업 전시회 준비 프로젝트 논산대학교 산업디자인 학과  어학 자격증 언어 시험 점수 기관 영어 TOEIC 850 YBM          어학연수 기간 과정명 기관 2016.07 - 2016.08 여름방학 단기 어학연수 필리핀 일랑 어학원         자기소개서    수상내역 기간 상세 내용 기관 2018.02 졸업 전시회 우수 작품상 논산대학교 산업디자인 학과 2017.11 산업 디자인 공모전 입상 대한 디자인 협회     자격증 취득일 자격증/ 면허증 등급 발행처 2018.03 산업디자인사 자격증 1급 한국산업디자인진흥원          병역 복무기간 군별/ 계급/ 병과 미필사유 - - -   위에 기재한 사항은 사실과 틀림이 없습니다  2022년   월   일      성  명 :                   (인)    자기소개서     직무경험  1-1. 디자인랩 인턴십 (2021.06 ~ 2021.12) • 직무: 산업 디자인 부서에서 인턴 근무 • 주요 업무: - 제품 디자인 초기 구상과 프로토타입 제작 지원 - 디자인 소프트웨어를 활용하여 제품의 3D 모델링 및 렌더링 작업 - 고객 요구 사항을 분석하여 제품 디자인 개선 제안 및 프레젠테이션 준비 • 성과: - 신규 제품 디자인 개선안이 채택되어 디자인 품질 향상에 기여 - 인턴십 기간 동안 사용자 경험(UX) 관점에서 디자인의 중요성을 배움 1-2. 디자인 학회 참여 및 전시회 기획 (2019.03 ~ 2019.12) • 역할: 디자인 학회 운영 팀원 • 주요 내용: - 대학 디자인 학회의 일원으로, 전시회를 기획하고 운영하는 활동에 참여 - 전시회 전반의 준비 과정에서 디자인 기획, 설치 및 홍보 담당 - 다양한 디자인 프로젝트에 참여하여 전시회에서 작품을 전시 • 성과: - 디자인 전시회의 성공적인 개최를 통해 기획 및 실행 능력을 강화 - 협업 능력과 조직력을 키우고, 디자인 과정 전반에 대한 이해도 향상 1-3. OO 디자인 경연대회 참여 (2020.05 ~ 2020.08) • 역할: 참가 팀 리더 및 디자이너 • 주요 업무: - 팀원들과 함께 주제에 맞는 창의적인 디자인 아이디어 도출 - 아이디어를 스케치하고 3D 모델링을 통해 시각화하여 발표 - 사용자 인터페이스(UI)와 사용자 경험(UX)을 고려한 디자인 설계 • 성과: - 최종 발표에서 우수한 평가를 받아 디자인 혁신상을 수상 - 다양한 의견을 조율하며 팀워크 능력을 배양하고, 발표 능력을 향상   \n",
      "{'person_korean_name': '김지원', 'person_english_name': 'KIM JIWON', 'person_phone_number': '010-2222-2222', 'person_birth': '1995-06-15', 'person_university': 'OO대학교', 'person_certification': {'certification': '산업디자인사 자격증 1급', 'issue_date': '2018-03'}, 'person_language': {'language': 'English', 'test_score': 'TOEIC 850', 'training_period': '2016.07 - 2016.08'}}\n",
      "person_korean_name 김지원\n",
      "person_english_name KIM JIWON\n",
      "person_phone_number 010-2222-2222\n",
      "person_birth 1995-06-15\n",
      "person_university OO대학교\n",
      "person_certification {'certification': '산업디자인사 자격증 1급', 'issue_date': '2018-03'}\n",
      "Error\n",
      "1\n",
      "1 !!\n",
      "2\n",
      "2 !!\n",
      "   이름 김지원 영문 KIM JIWON 한문  -  주민번호 990615-1234567 나이 26  휴대폰 010-2222-2222 전화번호 010-2222-2222  E - mail BB000@naver.com SNS -  주소 서울특별시  강남구  청담로  234 101동  1101호  학력사항 (최종학력: OO대학교(4년) 졸업) 재학기간 학교명 및 전공 학점 구분 2018.03 2024.02 논산대학교 산업 디자인 학과 3.7 / 4.5 졸업 2015.03-2018.02 아산고등학교 4.2/4.5 졸업      활동사항 기간 활동 내용 활동구분 기관 및 장소 2016.03 - 2016.12 디자인 봉사 활동 봉사 남양 봉사센터 2017.01 - 2017.12 산업디자인 인턴십 인턴 논산 디자인 스튜디오 2018.01 - 2018.02 졸업 전시회 준비 프로젝트 논산대학교 산업디자인 학과  어학 자격증 언어 시험 점수 기관 영어 TOEIC 850 YBM          어학연수 기간 과정명 기관 2016.07 - 2016.08 여름방학 단기 어학연수 필리핀 일랑 어학원         자기소개서    수상내역 기간 상세 내용 기관 2018.02 졸업 전시회 우수 작품상 논산대학교 산업디자인 학과 2017.11 산업 디자인 공모전 입상 대한 디자인 협회     자격증 취득일 자격증/ 면허증 등급 발행처 2018.03 산업디자인사 자격증 1급 한국산업디자인진흥원          병역 복무기간 군별/ 계급/ 병과 미필사유 - - -   위에 기재한 사항은 사실과 틀림이 없습니다  2022년   월   일      성  명 :                   (인)    자기소개서     직무경험  1-1. 디자인랩 인턴십 (2021.06 ~ 2021.12) • 직무: 산업 디자인 부서에서 인턴 근무 • 주요 업무: - 제품 디자인 초기 구상과 프로토타입 제작 지원 - 디자인 소프트웨어를 활용하여 제품의 3D 모델링 및 렌더링 작업 - 고객 요구 사항을 분석하여 제품 디자인 개선 제안 및 프레젠테이션 준비 • 성과: - 신규 제품 디자인 개선안이 채택되어 디자인 품질 향상에 기여 - 인턴십 기간 동안 사용자 경험(UX) 관점에서 디자인의 중요성을 배움 1-2. 디자인 학회 참여 및 전시회 기획 (2019.03 ~ 2019.12) • 역할: 디자인 학회 운영 팀원 • 주요 내용: - 대학 디자인 학회의 일원으로, 전시회를 기획하고 운영하는 활동에 참여 - 전시회 전반의 준비 과정에서 디자인 기획, 설치 및 홍보 담당 - 다양한 디자인 프로젝트에 참여하여 전시회에서 작품을 전시 • 성과: - 디자인 전시회의 성공적인 개최를 통해 기획 및 실행 능력을 강화 - 협업 능력과 조직력을 키우고, 디자인 과정 전반에 대한 이해도 향상 1-3. OO 디자인 경연대회 참여 (2020.05 ~ 2020.08) • 역할: 참가 팀 리더 및 디자이너 • 주요 업무: - 팀원들과 함께 주제에 맞는 창의적인 디자인 아이디어 도출 - 아이디어를 스케치하고 3D 모델링을 통해 시각화하여 발표 - 사용자 인터페이스(UI)와 사용자 경험(UX)을 고려한 디자인 설계 • 성과: - 최종 발표에서 우수한 평가를 받아 디자인 혁신상을 수상 - 다양한 의견을 조율하며 팀워크 능력을 배양하고, 발표 능력을 향상   \n",
      "{'person_korean_name': '김지원', 'person_english_name': 'KIM JIWON', 'person_phone_number': '010-2222-2222', 'person_birth': '1995-06-15', 'person_university': 'OO대학교', 'person_certification': {'certification': '산업디자인사 자격증 1급', 'issue_date': '2018-03'}, 'person_language': {'language': 'English', 'test_score': 'TOEIC 850', 'test_taken': 'YBM'}}\n",
      "person_korean_name 김지원\n",
      "person_english_name KIM JIWON\n",
      "person_phone_number 010-2222-2222\n",
      "person_birth 1995-06-15\n",
      "person_university OO대학교\n",
      "person_certification {'certification': '산업디자인사 자격증 1급', 'issue_date': '2018-03'}\n",
      "Error\n",
      "3\n",
      "3 !!\n",
      "   이름 홍길동 영문 Hong-gildong 한문     -  주민번호 930328 - 1234788 나이   30세  휴대폰 010-1234-5678 전화번호 -  E - mail AB0000@naver.com SNS -  주소 서울특별시 서초구 서초대로로  학력사항 (최종학력: 서울대학교(4년) 졸업) 재학기간 학교명 및 전공 학점 구분 2001.03 ~ 2008.02 서울대학교 전기전자공학과 3.48 / 4.5 졸업 1998.03 ~ 2001.02 성인 고등학교 - 졸업      활동사항 기간 활동 내용 활동구분 기관 및 장소 1998.02 ~ 1999.02 관악구 불우이웃 돕기 동아리 서울대학교 2000.01 ~ 2000.12 Ktf 퓨쳐스 리더 6기 대외할동 ktf 2020.01 ~ 2020.12 삼신 전자 인턴 인턴 삼신전자자  어학 자격증 언어 시험 점수 기관 영어 toeic 990 ybm 영어 Toeic speaking 180 ybm 어학연수 기간 과정명 기관 2005.01 ~ 2008.06 호주 워킹 홀리데이 -        수상내역 기간 상세 내용 기관  자기소개서    2019.01 전산대회 대상 한국 산업인력공단        자격증 취득일 자격증/ 면허증 등급 발행처 2019.01 시스코 네트워킹 자격증  마스터 국제 시스코 협회회 2020.01 한자능력시험  4급급 대한검정회      병역 복무기간 군별/ 계급/ 병과 미필사유 2002.03 ~ 2005. 04 육군 / 병장 / 통신병병 -      위에 기재한 사항은 사실과 틀림이 없습니다  2022년  01월  10 일      성  명 :            홍 길 동       (인)         직무경험  자기소개서    1-1. 삼신전자 인턴십 (2020.01 ~ 2020.12) • 직무: 전자 부품 및 네트워크 관련 부서에서 인턴 근무 • 주요 업무: o 전자 부품의 통신 기능 검사 및 성능 개선을 위한 데이터 분석 지원 o 시스코 네트워크 장비를 활용한 기초 네트워크 구성과 네트워크 문제 해결에 기여 o 상급자들과 협업하여 대규모 프로젝트에 필요한 자료 조사 및 기술 문서 작성 지원 • 성과: o 네트워크 트래픽 모니터링을 통해 잠재적 보안 취약점 발견 및 개선 의견 제안 o 인턴십 기간 동안 실무 경험을 통해 통신과 네트워크 이론을 실제 업무에 적용할 수 있는 역량을 확보 1-2. 관악구 불우이웃 돕기 동아리 활동 (1998.02 ~ 1999.02) • 역할: 봉사활동 기획 및 조직 • 주요 내용: o 서울대학교 동아리 소속으로 사회공헌 활동에 참여하여 지역사회의 어려운 이웃을 돕기 위한 기획을 수행 o 기부 물품 및 후원금 모집, 행사 운영 및 관련 행정업무 수행 • 성과: o 조직 및 커뮤니케이션 능력을 강화하며, 기획에서 실행까지의 전 과정을 관리하는 경험을 쌓음 1-3. KTF 퓨처스 리더 프로그램 참여 (2000.01 ~ 2000.12) • 역할: KTF 퓨처스 리더 6기로 활동 • 주요 업무: o 팀 프로젝트를 통해 다양한 비즈니스 모델 및 고객 서비스 전략에 대한 아이디어를 제시하고 발표 o 모바일 네트워크 및 최신 IT 트렌드에 대해 연구하며 발표를 통한 커뮤니케이션 능력 향상 • 성과: o 모바일 통신 및 고객 중심 서비스 설계에 대한 이해도를 심화 o 다양한 팀 구성원과 협업하며 팀워크 능력을 배양함   \n",
      "{'person_korean_name': '홍길동', 'person_english_name': 'Hong-gildong', 'person_phone_number': '010-1234-5678', 'person_birth': '1990-01-01', 'person_university': '서울대학교', 'person_certification': {'certification': '시스코 네트워크 자격증', 'level': '마스터', 'issue_date': '2019-01'}, 'person_language': {'language': '영어', 'test_score': 990, 'test_name': 'TOEIC', 'test_date': '2005-01-01'}}\n",
      "person_korean_name 홍길동\n",
      "person_english_name Hong-gildong\n",
      "person_phone_number 010-1234-5678\n",
      "person_birth 1990-01-01\n",
      "person_university 서울대학교\n",
      "person_certification {'certification': '시스코 네트워크 자격증', 'level': '마스터', 'issue_date': '2019-01'}\n",
      "Error\n",
      "4\n",
      "4 !!\n",
      "5\n",
      "5 !!\n",
      "   이름 홍길동 영문 Hong-gildong 한문     -  주민번호 930328 - 1234788 나이   30세  휴대폰 010-1234-5678 전화번호 -  E - mail AB0000@naver.com SNS -  주소 서울특별시 서초구 서초대로로  학력사항 (최종학력: 서울대학교(4년) 졸업) 재학기간 학교명 및 전공 학점 구분 2001.03 ~ 2008.02 서울대학교 전기전자공학과 3.48 / 4.5 졸업 1998.03 ~ 2001.02 성인 고등학교 - 졸업      활동사항 기간 활동 내용 활동구분 기관 및 장소 1998.02 ~ 1999.02 관악구 불우이웃 돕기 동아리 서울대학교 2000.01 ~ 2000.12 Ktf 퓨쳐스 리더 6기 대외할동 ktf 2020.01 ~ 2020.12 삼신 전자 인턴 인턴 삼신전자자  어학 자격증 언어 시험 점수 기관 영어 toeic 990 ybm 영어 Toeic speaking 180 ybm 어학연수 기간 과정명 기관 2005.01 ~ 2008.06 호주 워킹 홀리데이 -        수상내역 기간 상세 내용 기관  자기소개서    2019.01 전산대회 대상 한국 산업인력공단        자격증 취득일 자격증/ 면허증 등급 발행처 2019.01 시스코 네트워킹 자격증  마스터 국제 시스코 협회회 2020.01 한자능력시험  4급급 대한검정회      병역 복무기간 군별/ 계급/ 병과 미필사유 2002.03 ~ 2005. 04 육군 / 병장 / 통신병병 -      위에 기재한 사항은 사실과 틀림이 없습니다  2022년  01월  10 일      성  명 :            홍 길 동       (인)         직무경험  자기소개서    1-1. 삼신전자 인턴십 (2020.01 ~ 2020.12) • 직무: 전자 부품 및 네트워크 관련 부서에서 인턴 근무 • 주요 업무: o 전자 부품의 통신 기능 검사 및 성능 개선을 위한 데이터 분석 지원 o 시스코 네트워크 장비를 활용한 기초 네트워크 구성과 네트워크 문제 해결에 기여 o 상급자들과 협업하여 대규모 프로젝트에 필요한 자료 조사 및 기술 문서 작성 지원 • 성과: o 네트워크 트래픽 모니터링을 통해 잠재적 보안 취약점 발견 및 개선 의견 제안 o 인턴십 기간 동안 실무 경험을 통해 통신과 네트워크 이론을 실제 업무에 적용할 수 있는 역량을 확보 1-2. 관악구 불우이웃 돕기 동아리 활동 (1998.02 ~ 1999.02) • 역할: 봉사활동 기획 및 조직 • 주요 내용: o 서울대학교 동아리 소속으로 사회공헌 활동에 참여하여 지역사회의 어려운 이웃을 돕기 위한 기획을 수행 o 기부 물품 및 후원금 모집, 행사 운영 및 관련 행정업무 수행 • 성과: o 조직 및 커뮤니케이션 능력을 강화하며, 기획에서 실행까지의 전 과정을 관리하는 경험을 쌓음 1-3. KTF 퓨처스 리더 프로그램 참여 (2000.01 ~ 2000.12) • 역할: KTF 퓨처스 리더 6기로 활동 • 주요 업무: o 팀 프로젝트를 통해 다양한 비즈니스 모델 및 고객 서비스 전략에 대한 아이디어를 제시하고 발표 o 모바일 네트워크 및 최신 IT 트렌드에 대해 연구하며 발표를 통한 커뮤니케이션 능력 향상 • 성과: o 모바일 통신 및 고객 중심 서비스 설계에 대한 이해도를 심화 o 다양한 팀 구성원과 협업하며 팀워크 능력을 배양함   \n",
      "{'person_korean_name': '홍길동', 'person_english_name': 'Hong-gildong', 'person_phone_number': '010-1234-5678', 'person_birth': '1990-01-01', 'person_university': '서울대학교', 'person_certification': {'certification': '시스코 네트워크 자격증', 'level': '마스터', 'issue_date': '2019-01'}, 'person_language': {'language': '영어', 'test_score': 990, 'test_name': 'TOEIC', 'test_date': '2005-01-01'}}\n",
      "person_korean_name 홍길동\n",
      "person_english_name Hong-gildong\n",
      "person_phone_number 010-1234-5678\n",
      "person_birth 1990-01-01\n",
      "person_university 서울대학교\n",
      "person_certification {'certification': '시스코 네트워크 자격증', 'level': '마스터', 'issue_date': '2019-01'}\n",
      "Error\n",
      "6\n",
      "Processed 6 documents.\n"
     ]
    }
   ],
   "source": [
    "# 문서 객체를 페이지별로 순회하며 사례 번호 등 메타데이터를 추출하고 업데이트\n",
    "import math\n",
    "j = 0\n",
    "pdf_docs = []\n",
    "person_metadata = {}\n",
    "split_pattern_1 = r'이.*력.*서'  # \"이력서\" 패턴\n",
    "split_pattern_2 = r'자기소개서'  # \"자기소개서\" 패턴\n",
    "\n",
    "for i, doc in enumerate(all_data):\n",
    "    print(i , \"!!\")\n",
    "    page_content = \"\".join(doc.page_content)  # 페이지의 전체 텍스트를 하나로 결합\n",
    "    person_metadata = {}  # 각 페이지별 메타데이터 저장\n",
    "    split_text = re.search(split_pattern_1, page_content)\n",
    "\n",
    "    # \"이력서\"인 경우\n",
    "    if split_text:\n",
    "        # 각 이력서가 3페이지로 구성된 것으로 가정하고 메타데이터 추출\n",
    "        resume_text = resumes[math.floor(i / 3)]\n",
    "        print(resume_text)\n",
    "        try:\n",
    "            response = runnable.invoke({\"text\": resume_text})\n",
    "            print(dict(response))\n",
    "            for k, v in dict(response).items():\n",
    "                print(k, v)\n",
    "                person_metadata[k] = v.replace(\"\\n\", \"\").replace(\" \", \"\")\n",
    "        except:\n",
    "            print(\"Error\") # 오류 발생 시 해당 페이지 건너뛰기\n",
    "            \n",
    "        doc.metadata.update(person_metadata)\n",
    "\n",
    "    # \"자기소개서\"인 경우\n",
    "    elif re.search(split_pattern_2, page_content):\n",
    "        # 메타데이터가 있으면 업데이트\n",
    "        doc.metadata.update(person_metadata)\n",
    "\n",
    "    # \"이력서\"와 \"자기소개서\"에 맞지 않는 경우\n",
    "    else:\n",
    "        doc.metadata.update(person_metadata)  # 필요한 기본 메타데이터 업데이트\n",
    "\n",
    "    # 줄바꿈 제거 및 문서 객체 리스트에 추가\n",
    "    doc.page_content = ''.join(page_content.split('\\n'))\n",
    "    j += 1\n",
    "    print(j)\n",
    "    pdf_docs.append(doc)\n",
    "\n",
    "# 처리된 문서 개수 확인\n",
    "print(f\"Processed {len(pdf_docs)} documents.\")\n"
   ]
  },
  {
   "cell_type": "code",
   "execution_count": 76,
   "metadata": {},
   "outputs": [
    {
     "name": "stdout",
     "output_type": "stream",
     "text": [
      "(' 이 력 서   이름 김지원 영문 KIM JIWON 한문  -  주민번호 990615-1234567 나이 26  휴대폰 '\n",
      " '010-2222-2222 전화번호 010-2222-2222  E - mail BB000@naver.com SNS -  주소 서울특별시  '\n",
      " '강남구  청담로  234 101동  1101호  학력사항 (최종학력: OO대학교(4년) 졸업) 재학기간 학교명 및 전공 학점 구분 '\n",
      " '2018.03 2024.02 논산대학교 산업 디자인 학과 3.7 / 4.5 졸업 2015.03-2018.02 아산고등학교 4.2/4.5 '\n",
      " '졸업      활동사항 기간 활동 내용 활동구분 기관 및 장소 2016.03 - 2016.12 디자인 봉사 활동 봉사 남양 봉사센터 '\n",
      " '2017.01 - 2017.12 산업디자인 인턴십 인턴 논산 디자인 스튜디오 2018.01 - 2018.02 졸업 전시회 준비 프로젝트 '\n",
      " '논산대학교 산업디자인 학과  어학 자격증 언어 시험 점수 기관 영어 TOEIC 850 YBM          어학연수 기간 과정명 기관 '\n",
      " '2016.07 - 2016.08 여름방학 단기 어학연수 필리핀 일랑 어학원        ')\n"
     ]
    }
   ],
   "source": [
    "pprint(pdf_docs[0].page_content)"
   ]
  },
  {
   "cell_type": "code",
   "execution_count": 78,
   "metadata": {},
   "outputs": [
    {
     "name": "stdout",
     "output_type": "stream",
     "text": [
      "{'page': 0,\n",
      " 'person_birth': '1995-06-15',\n",
      " 'person_english_name': 'KIMJIWON',\n",
      " 'person_korean_name': '김지원',\n",
      " 'person_phone_number': '010-2222-2222',\n",
      " 'person_university': 'OO대학교',\n",
      " 'source': 'pdf_data\\\\김지원 이력서.pdf'}\n"
     ]
    }
   ],
   "source": [
    "pprint(pdf_docs[0].metadata)"
   ]
  },
  {
   "cell_type": "markdown",
   "metadata": {},
   "source": [
    "## 토큰화"
   ]
  },
  {
   "cell_type": "code",
   "execution_count": null,
   "metadata": {},
   "outputs": [
    {
     "name": "stderr",
     "output_type": "stream",
     "text": [
      "c:\\Users\\User\\anaconda3\\envs\\t_d\\Lib\\site-packages\\tqdm\\auto.py:21: TqdmWarning: IProgress not found. Please update jupyter and ipywidgets. See https://ipywidgets.readthedocs.io/en/stable/user_install.html\n",
      "  from .autonotebook import tqdm as notebook_tqdm\n"
     ]
    },
    {
     "name": "stdout",
     "output_type": "stream",
     "text": [
      "49\n",
      "page_content='이 력 서   이름 김지원 영문 KIM JIWON 한문  -  주민번호 990615-1234567 나이 26  휴대폰' metadata={'source': 'pdf_data\\\\김지원 이력서.pdf', 'page': 0, 'person_korean_name': '김지원', 'person_english_name': 'KIMJIWON', 'person_phone_number': '010-2222-2222', 'person_birth': '1995-06-15', 'person_university': 'OO대학교'}\n"
     ]
    }
   ],
   "source": [
    "from langchain_text_splitters import RecursiveCharacterTextSplitter\n",
    "from transformers import AutoTokenizer\n",
    "tokenizer = AutoTokenizer.from_pretrained('snunlp/KR-SBERT-V40K-klueNLI-augSTS')\n",
    "\n",
    "text_splitter = RecursiveCharacterTextSplitter.from_huggingface_tokenizer(\n",
    "    tokenizer = tokenizer,\n",
    "    chunk_size = 120,\n",
    "    chunk_overlap  = 10,\n",
    ")\n",
    "\n",
    "split_docs = text_splitter.split_documents(pdf_docs)\n",
    "print(len(split_docs))\n",
    "print(split_docs[0])"
   ]
  },
  {
   "cell_type": "code",
   "execution_count": 81,
   "metadata": {},
   "outputs": [
    {
     "data": {
      "text/plain": [
       "(65, 34)"
      ]
     },
     "execution_count": 81,
     "metadata": {},
     "output_type": "execute_result"
    }
   ],
   "source": [
    "sample_text = split_docs[0].page_content\n",
    "sample_encoded = tokenizer.encode(sample_text)\n",
    "len(sample_text), len(sample_encoded)"
   ]
  },
  {
   "cell_type": "code",
   "execution_count": 82,
   "metadata": {},
   "outputs": [
    {
     "name": "stdout",
     "output_type": "stream",
     "text": [
      "34\n",
      "'이 력 서   이름 김지원 영문 KIM JIWON 한문  -  주민번호 990615-1234567 나이 26  휴대폰'\n"
     ]
    }
   ],
   "source": [
    "print(len(tokenizer.encode(split_docs[0].page_content)))\n",
    "pprint(split_docs[0].page_content)"
   ]
  },
  {
   "cell_type": "code",
   "execution_count": 83,
   "metadata": {},
   "outputs": [
    {
     "name": "stdout",
     "output_type": "stream",
     "text": [
      "40\n",
      "('휴대폰 010-2222-2222 전화번호 010-2222-2222  E - mail BB000@naver.com SNS -  주소 '\n",
      " '서울특별시  강남구  청담로')\n"
     ]
    }
   ],
   "source": [
    "print(len(tokenizer.encode(split_docs[1].page_content)))\n",
    "pprint(split_docs[1].page_content)"
   ]
  },
  {
   "cell_type": "code",
   "execution_count": 84,
   "metadata": {},
   "outputs": [
    {
     "data": {
      "text/plain": [
       "'휴대폰 010-2222-2222 전화번호 010-2222-2222  E - mail BB000@naver.com SNS -  주소 서울특별시  강남구  청담로'"
      ]
     },
     "execution_count": 84,
     "metadata": {},
     "output_type": "execute_result"
    }
   ],
   "source": [
    "# 마침표 뒤에 나오는 줄바꿈 문자는 그대로 두고 나머지 줄바꿈 문자만 제거\n",
    "result = re.sub(r'(?<!\\.)\\n', ' ', split_docs[1].page_content)\n",
    "result"
   ]
  },
  {
   "cell_type": "code",
   "execution_count": 85,
   "metadata": {},
   "outputs": [
    {
     "name": "stdout",
     "output_type": "stream",
     "text": [
      "{'page': 0,\n",
      " 'person_birth': '1995-06-15',\n",
      " 'person_english_name': 'KIMJIWON',\n",
      " 'person_korean_name': '김지원',\n",
      " 'person_phone_number': '010-2222-2222',\n",
      " 'person_university': 'OO대학교',\n",
      " 'source': 'pdf_data\\\\김지원 이력서.pdf'}\n"
     ]
    }
   ],
   "source": [
    "pprint(split_docs[0].metadata)"
   ]
  },
  {
   "cell_type": "code",
   "execution_count": 86,
   "metadata": {},
   "outputs": [
    {
     "name": "stdout",
     "output_type": "stream",
     "text": [
      "{'page': 0,\n",
      " 'person_birth': '1995-06-15',\n",
      " 'person_english_name': 'KIMJIWON',\n",
      " 'person_korean_name': '김지원',\n",
      " 'person_phone_number': '010-2222-2222',\n",
      " 'person_university': 'OO대학교',\n",
      " 'source': 'pdf_data\\\\김지원 이력서.pdf'}\n"
     ]
    }
   ],
   "source": [
    "pprint(split_docs[1].metadata)"
   ]
  },
  {
   "cell_type": "code",
   "execution_count": 87,
   "metadata": {},
   "outputs": [],
   "source": [
    "answer = f\"###'{split_docs[1].metadata['person_korean_name']}'지원자를 추천합니다.\""
   ]
  },
  {
   "cell_type": "markdown",
   "metadata": {},
   "source": [
    "## Indexing"
   ]
  },
  {
   "cell_type": "code",
   "execution_count": 88,
   "metadata": {},
   "outputs": [
    {
     "name": "stdout",
     "output_type": "stream",
     "text": [
      "###'김지원'지원자를 추천합니다. \n",
      "\n",
      "이 력 서   이름 김지원 영문 KIM JIWON 한문  -  주민번호 990615-1234567 나이 26  휴대폰\n"
     ]
    }
   ],
   "source": [
    "final_docs = []\n",
    "for doc in split_docs:\n",
    "    doc.page_content = f\"###'{split_docs[1].metadata['person_korean_name']}'지원자를 추천합니다. \\n\\n\" + \\\n",
    "    re.sub(r'(?<!\\.)\\n', ' ', doc.page_content)\n",
    "    final_docs.append(doc)\n",
    "\n",
    "print(final_docs[0].page_content)"
   ]
  },
  {
   "cell_type": "code",
   "execution_count": 89,
   "metadata": {},
   "outputs": [
    {
     "name": "stdout",
     "output_type": "stream",
     "text": [
      "###'김지원'지원자를 추천합니다. \n",
      "\n",
      "휴대폰 010-2222-2222 전화번호 010-2222-2222  E - mail BB000@naver.com SNS -  주소 서울특별시  강남구  청담로\n"
     ]
    }
   ],
   "source": [
    "print(final_docs[1].page_content)"
   ]
  },
  {
   "cell_type": "markdown",
   "metadata": {},
   "source": [
    "## Embeddings and Chroma DB"
   ]
  },
  {
   "cell_type": "code",
   "execution_count": 90,
   "metadata": {},
   "outputs": [
    {
     "name": "stderr",
     "output_type": "stream",
     "text": [
      "C:\\Users\\User\\AppData\\Local\\Temp\\ipykernel_28020\\1172022402.py:4: LangChainDeprecationWarning: The class `HuggingFaceEmbeddings` was deprecated in LangChain 0.2.2 and will be removed in 1.0. An updated version of the class exists in the :class:`~langchain-huggingface package and should be used instead. To use it run `pip install -U :class:`~langchain-huggingface` and import as `from :class:`~langchain_huggingface import HuggingFaceEmbeddings``.\n",
      "  embeddings_model = HuggingFaceEmbeddings(\n"
     ]
    }
   ],
   "source": [
    "# HugoingFace Embeddings를 다운로드\n",
    "from langchain.embeddings import HuggingFaceEmbeddings\n",
    "\n",
    "embeddings_model = HuggingFaceEmbeddings(\n",
    "    model_name=\"snunlp/KR-SBERT-V40K-klueNLI-augSTS\",\n",
    ")"
   ]
  },
  {
   "cell_type": "code",
   "execution_count": null,
   "metadata": {},
   "outputs": [],
   "source": []
  },
  {
   "cell_type": "code",
   "execution_count": 91,
   "metadata": {},
   "outputs": [
    {
     "name": "stderr",
     "output_type": "stream",
     "text": [
      "c:\\Users\\User\\anaconda3\\envs\\t_d\\Lib\\site-packages\\transformers\\models\\bert\\modeling_bert.py:440: UserWarning: 1Torch was not compiled with flash attention. (Triggered internally at C:\\cb\\pytorch_1000000000000\\work\\aten\\src\\ATen\\native\\transformers\\cuda\\sdp_utils.cpp:555.)\n",
      "  attn_output = torch.nn.functional.scaled_dot_product_attention(\n"
     ]
    }
   ],
   "source": [
    "from langchain_community.vectorstores import Chroma\n",
    "vectorstore = Chroma.from_documents(documents=final_docs, \n",
    "                                    embedding=embeddings_model, \n",
    "                                    collection_name=\"consumer_case_qa\",\n",
    "                                    persist_directory=\"./chroma_db\")"
   ]
  },
  {
   "cell_type": "code",
   "execution_count": 93,
   "metadata": {},
   "outputs": [
    {
     "name": "stdout",
     "output_type": "stream",
     "text": [
      "김지원 1995-06-15 ###'김지원'지원자를 추천합니다. \n",
      "\n",
      "• 주요 업무: - 제품 디자인 초기 구상과 프로토타입 제작 지원 - 디자인 소프트웨어를 활용하여 제품의 3D 모델링 및 렌더링 작업 -\n",
      "김지원 1995-06-15 ###'김지원'지원자를 추천합니다. \n",
      "\n",
      "활동 내용 활동구분 기관 및 장소 2016.03 - 2016.12 디자인 봉사 활동 봉사 남양 봉사센터 2017.01 - 2017.12 산업디자인 인턴십 인턴\n",
      "김지원 1995-06-15 ###'김지원'지원자를 추천합니다. \n",
      "\n",
      "및 디자이너 • 주요 업무: - 팀원들과 함께 주제에 맞는 창의적인 디자인 아이디어 도출 - 아이디어를 스케치하고 3D 모델링을 통해 시각화하여 발표\n",
      "김지원 1995-06-15 ###'김지원'지원자를 추천합니다. \n",
      "\n",
      "전시회를 기획하고 운영하는 활동에 참여 - 전시회 전반의 준비 과정에서 디자인 기획, 설치 및 홍보 담당 - 다양한 디자인 프로젝트에 참여하여 전시회에서 작품을\n",
      "김지원 1995-06-15 ###'김지원'지원자를 추천합니다. \n",
      "\n",
      "디자인 품질 향상에 기여 - 인턴십 기간 동안 사용자 경험(UX) 관점에서 디자인의 중요성을 배움 1-2. 디자인 학회 참여 및 전시회 기획\n"
     ]
    }
   ],
   "source": [
    "chroma_docs = vectorstore.similarity_search(\"디자인과에 관련된 활동은?\", k=5)\n",
    "for doc in chroma_docs:\n",
    "    print(str(doc.metadata[\"person_korean_name\"]), str(doc.metadata[\"person_birth\"]), doc.page_content[:])"
   ]
  },
  {
   "cell_type": "markdown",
   "metadata": {},
   "source": [
    "## Retrival"
   ]
  },
  {
   "cell_type": "code",
   "execution_count": 94,
   "metadata": {},
   "outputs": [
    {
     "name": "stdout",
     "output_type": "stream",
     "text": [
      "홍길동 1990-01-01 ###'홍길동'지원자를 추천합니다. \n",
      "\n",
      "###'홍길동'지원자를 추천합니다.  ###'홍길동'지원자를 추천합니다.통신과 네트워크 이론을 실제 업무에 적용할 수 있는 역량을 확보 1-2. 관악구 불우이웃 돕기 동아리 활동 (1998.02 ~ 1999.02) • 역할:\n",
      "홍길동 1990-01-01 ###'김지원'지원자를 추천합니다. \n",
      "\n",
      "통신과 네트워크 이론을 실제 업무에 적용할 수 있는 역량을 확보 1-2. 관악구 불우이웃 돕기 동아리 활동 (1998.02 ~ 1999.02) • 역할:\n",
      "홍길동 1990-01-01 ###'김지원'지원자를 추천합니다. \n",
      "\n",
      "서초대로로  학력사항 (최종학력: 서울대학교(4년) 졸업) 재학기간 학교명 및 전공 학점 구분 2001.03 ~ 2008.02 서울대학교 전기전자공학과 3.48 / 4.5\n",
      "홍길동 1990-01-01 ###'홍길동'지원자를 추천합니다. \n",
      "\n",
      "###'홍길동'지원자를 추천합니다.  ###'홍길동'지원자를 추천합니다.서초대로로  학력사항 (최종학력: 서울대학교(4년) 졸업) 재학기간 학교명 및 전공 학점 구분 2001.03 ~ 2008.02 서울대학교 전기전자공학과 3.48 / 4.5\n",
      "홍길동 1990-01-01 ###'홍길동'지원자를 추천합니다. \n",
      "\n",
      "###'홍길동'지원자를 추천합니다.  ###'홍길동'지원자를 추천합니다.자기소개서    1-1. 삼신전자 인턴십 (2020.01 ~ 2020.12) • 직무: 전자 부품 및 네트워크 관련 부서에서 인턴 근무 • 주요\n"
     ]
    }
   ],
   "source": [
    "# Top K\n",
    "retriever = vectorstore.as_retriever(\n",
    "    search_kwargs={\"k\": 5}\n",
    ")\n",
    "\n",
    "query = \"컴퓨터공학과에 관련된 활동은?\"\n",
    "retrieved_docs = retriever.invoke(query)\n",
    "\n",
    "for doc in retrieved_docs:\n",
    "    print(str(doc.metadata[\"person_korean_name\"]), str(doc.metadata[\"person_birth\"]), doc.page_content[:])"
   ]
  },
  {
   "cell_type": "code",
   "execution_count": null,
   "metadata": {},
   "outputs": [],
   "source": [
    "# metadata를 이용한 필터링\n",
    "사용 X\n",
    "retriever = vectorstore.as_retriever(\n",
    "    search_kwargs={\n",
    "        'k': 5,\n",
    "        'filter': {'case_id':'01'}\n",
    "        }\n",
    ")\n",
    "\n",
    "\n",
    "query = \"컴퓨터공학과에 관련된 활동은?\"\n",
    "retrieved_docs = retriever.invoke(query)\n",
    "\n",
    "for doc in retrieved_docs:\n",
    "    print(str(doc.metadata[\"person_korean_name\"]), str(doc.metadata[\"person_birth\"]), doc.page_content[:])"
   ]
  },
  {
   "cell_type": "code",
   "execution_count": 95,
   "metadata": {},
   "outputs": [
    {
     "name": "stdout",
     "output_type": "stream",
     "text": [
      "홍길동 1990-01-01 ###'김지원'지원자를 추천합니다. \n",
      "\n",
      "서초대로로  학력사항 (최종학력: 서울대학교(4년) 졸업) 재학기간 학교명 및 전공 학점 구분 2001.03 ~ 2008.02 서울대학교 전기전자공학과 3.48 / 4.5\n",
      "홍길동 1990-01-01 ###'홍길동'지원자를 추천합니다. \n",
      "\n",
      "###'홍길동'지원자를 추천합니다.  ###'홍길동'지원자를 추천합니다.서초대로로  학력사항 (최종학력: 서울대학교(4년) 졸업) 재학기간 학교명 및 전공 학점 구분 2001.03 ~ 2008.02 서울대학교 전기전자공학과 3.48 / 4.5\n",
      "홍길동 1990-01-01 ###'홍길동'지원자를 추천합니다. \n",
      "\n",
      "###'홍길동'지원자를 추천합니다.  ###'홍길동'지원자를 추천합니다.자기소개서    1-1. 삼신전자 인턴십 (2020.01 ~ 2020.12) • 직무: 전자 부품 및 네트워크 관련 부서에서 인턴 근무 • 주요\n",
      "홍길동 1990-01-01 ###'김지원'지원자를 추천합니다. \n",
      "\n",
      "자기소개서    1-1. 삼신전자 인턴십 (2020.01 ~ 2020.12) • 직무: 전자 부품 및 네트워크 관련 부서에서 인턴 근무 • 주요\n",
      "홍길동 1990-01-01 ###'홍길동'지원자를 추천합니다. \n",
      "\n",
      "###'홍길동'지원자를 추천합니다.  ###'홍길동'지원자를 추천합니다.기획에서 실행까지의 전 과정을 관리하는 경험을 쌓음 1-3. KTF 퓨처스 리더 프로그램 참여 (2000.01 ~ 2000.12) • 역할: KTF 퓨처스\n"
     ]
    }
   ],
   "source": [
    "# page_content를 이용한 필터링\n",
    "\n",
    "retriever = vectorstore.as_retriever(\n",
    "    search_kwargs={\n",
    "        'k': 5,\n",
    "        'where_document': {'$contains': '전'}\n",
    "        }\n",
    ")\n",
    "\n",
    "query = \"컴퓨터공학과에 관련된 활동은?\"\n",
    "retrieved_docs = retriever.invoke(query)\n",
    "\n",
    "for doc in retrieved_docs:\n",
    "    print(str(doc.metadata[\"person_korean_name\"]), str(doc.metadata[\"person_birth\"]), doc.page_content[:])"
   ]
  },
  {
   "cell_type": "markdown",
   "metadata": {},
   "source": [
    "## Generation"
   ]
  },
  {
   "cell_type": "code",
   "execution_count": 96,
   "metadata": {},
   "outputs": [
    {
     "data": {
      "text/plain": [
       "ChatPromptTemplate(input_variables=['context', 'question'], input_types={}, partial_variables={}, messages=[HumanMessagePromptTemplate(prompt=PromptTemplate(input_variables=['context', 'question'], input_types={}, partial_variables={}, template='Answer the question based only on the following context:\\n{context}\\n\\nQuestion: {question}\\n'), additional_kwargs={})])"
      ]
     },
     "execution_count": 96,
     "metadata": {},
     "output_type": "execute_result"
    }
   ],
   "source": [
    "from langchain_community.chat_models import ChatOllama\n",
    "from langchain.prompts import ChatPromptTemplate\n",
    "\n",
    "# Prompt\n",
    "template = \"\"\"Answer the question based only on the following context:\n",
    "{context}\n",
    "\n",
    "Question: {question}\n",
    "\"\"\"\n",
    "\n",
    "prompt = ChatPromptTemplate.from_template(template)\n",
    "prompt"
   ]
  },
  {
   "cell_type": "code",
   "execution_count": null,
   "metadata": {},
   "outputs": [
    {
     "data": {
      "text/plain": [
       "'김지원이라는 지원자를 추천합니다. 그는 2021년 6월부터 12월까지 디자인랩에서 인턴으로 근무하였습니다. 산업 디자인 부서에서의 경험을 통해 그는 디자인 분야에 대한 실질적인 이해를 가지고 있습니다. 따라서 디자이너로 고려해볼 만한 후보입니다. 그러나 엔지니어와 관련된 자격증이나 경험이 있는지, 또는 이에 관한 추가 정보가 필요하시다면 좀 더 구체적인 추천을 할 수 있을 것 같습니다.'"
      ]
     },
     "execution_count": 104,
     "metadata": {},
     "output_type": "execute_result"
    }
   ],
   "source": [
    "# RAG Chain\n",
    "llm = ChatOllama(model=\"qwen2\", temperature=0)\n",
    "\n",
    "from langchain_core.output_parsers import StrOutputParser\n",
    "from langchain_core.runnables import RunnablePassthrough\n",
    "\n",
    "def format_docs(docs):\n",
    "    return \"\\n\\n\".join([d.page_content for d in docs])\n",
    "\n",
    "query = f\" 디자이너로 뽑고 싶은데 어떤 사람을 추천해??\"\n",
    "\n",
    "retriever = vectorstore.as_retriever(\n",
    "    search_kwargs={\n",
    "        'k': 2,\n",
    "        }\n",
    ")\n",
    "\n",
    "rag_chain = (\n",
    "    {\"context\": retriever | format_docs, \"question\": RunnablePassthrough()}\n",
    "    | prompt\n",
    "    | llm\n",
    "    | StrOutputParser()\n",
    ")\n",
    "\n",
    "\n",
    "response = rag_chain.invoke(query)\n",
    "response"
   ]
  },
  {
   "cell_type": "code",
   "execution_count": 99,
   "metadata": {},
   "outputs": [
    {
     "name": "stdout",
     "output_type": "stream",
     "text": [
      "김지원이라는 사람이 디자이너로 뽑기 적합한 후보입니다. 그는 산업디자인사 자격증 1급을 취득하였으며, 이 자격증은 한국산업디자인진흥원에서 발행하였습니다. \n",
      "\n",
      "그의 주요 업무는 팀원들과 함께 주제에 맞는 창의적인 디자인 아이디어를 도출하는 것과, 아이디어를 스케치하고 3D 모델링을 통해 시각화하여 발표하는 것입니다. 이러한 경험과 능력으로 보아 김지원은 디자이너로서의 역할에 적합한 후보라고 추천합니다.\n"
     ]
    }
   ],
   "source": [
    "print(response)"
   ]
  }
 ],
 "metadata": {
  "kernelspec": {
   "display_name": "t_d",
   "language": "python",
   "name": "python3"
  },
  "language_info": {
   "codemirror_mode": {
    "name": "ipython",
    "version": 3
   },
   "file_extension": ".py",
   "mimetype": "text/x-python",
   "name": "python",
   "nbconvert_exporter": "python",
   "pygments_lexer": "ipython3",
   "version": "3.12.5"
  }
 },
 "nbformat": 4,
 "nbformat_minor": 2
}
